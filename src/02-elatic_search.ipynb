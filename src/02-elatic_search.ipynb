{
 "cells": [
  {
   "attachments": {},
   "cell_type": "markdown",
   "metadata": {},
   "source": [
    "#### Utiliser la bibliothèque Faker pour générer des données fictives et les indexe dans Elasticsearch, un moteur de recherche et d'analyse de données."
   ]
  },
  {
   "cell_type": "code",
   "execution_count": 5,
   "metadata": {},
   "outputs": [],
   "source": [
    "from faker import Faker         # un module qui permet de générer des données fictives         \n",
    "from elasticsearch import Elasticsearch         # un module qui permet d'interagir avec Elasticsearch depuis Python"
   ]
  },
  {
   "cell_type": "code",
   "execution_count": 6,
   "metadata": {},
   "outputs": [
    {
     "name": "stderr",
     "output_type": "stream",
     "text": [
      "/tmp/ipykernel_16030/2051897845.py:22: DeprecationWarning: The 'body' parameter is deprecated and will be removed in a future version. Instead use the 'document' parameter. See https://github.com/elastic/elasticsearch-py/issues/1698 for more information\n",
      "  es.index(index=\"notes\", body=document)\n",
      "/tmp/ipykernel_16030/2051897845.py:22: ElasticsearchWarning: Elasticsearch built-in security features are not enabled. Without authentication, your cluster could be accessible to anyone. See https://www.elastic.co/guide/en/elasticsearch/reference/7.17/security-minimal-setup.html to enable security.\n",
      "  es.index(index=\"notes\", body=document)\n"
     ]
    }
   ],
   "source": [
    "# Instancier le générateur de données Faker. Crée une instance de l'objet Faker pour générer les données fictives\n",
    "fake = Faker()\n",
    "\n",
    "# Connexion à Elasticsearch :\n",
    "es = Elasticsearch([{'host': 'localhost', 'port':9200, 'scheme':'http'}])\n",
    "\n",
    "# Nombre de documents fictifs à générer\n",
    "num_documents = 100\n",
    "\n",
    "# Boucle pour générer les documents et les indexer dans Elasticsearch. Chaque document est un dictionnaire contenant des clés. \n",
    "# Les valeurs de ces clés sont générées à l'aide des méthodes fournies par l'objet Faker.\n",
    "for _ in range(num_documents):\n",
    "    document = {\n",
    "        \"patient_lastname\": fake.last_name(),\n",
    "        \"patient_firstname\": fake.first_name(),\n",
    "        \"text\": fake.text(),\n",
    "        \"date\": fake.date_this_decade(),\n",
    "        \"patient_left\": fake.boolean(),\n",
    "        \"emotion\": fake.word(),\n",
    "        \"confidence\": fake.pyfloat()\n",
    "    }\n",
    "\n",
    "    # Indexer le document dans Elasticsearch\n",
    "    es.index(index=\"notes\", body=document)\n"
   ]
  },
  {
   "cell_type": "code",
   "execution_count": 7,
   "metadata": {},
   "outputs": [
    {
     "name": "stdout",
     "output_type": "stream",
     "text": [
      "Version d'Elasticsearch : 7.17.10\n"
     ]
    },
    {
     "name": "stderr",
     "output_type": "stream",
     "text": [
      "/tmp/ipykernel_16030/3159305979.py:4: ElasticsearchWarning: Elasticsearch built-in security features are not enabled. Without authentication, your cluster could be accessible to anyone. See https://www.elastic.co/guide/en/elasticsearch/reference/7.17/security-minimal-setup.html to enable security.\n",
      "  response = es.info()\n"
     ]
    }
   ],
   "source": [
    "es = Elasticsearch([{'host': 'localhost', 'port':9200, 'scheme':'http'}])\n",
    "\n",
    "# Récupérer la version d'Elasticsearch\n",
    "response = es.info()          \n",
    "\n",
    "# Extraire la version à partir de la réponse\n",
    "version = response['version']['number']\n",
    "\n",
    "# Afficher la version\n",
    "print(\"Version d'Elasticsearch :\", version)"
   ]
  },
  {
   "cell_type": "code",
   "execution_count": 8,
   "metadata": {},
   "outputs": [
    {
     "name": "stdout",
     "output_type": "stream",
     "text": [
      "ID du document : L6ZFIIkBSFhSL_GYfXy-\n",
      "Données du document : {'patient_lastname': 'Wilson', 'patient_firstname': 'Karen', 'text': 'Sell news activity cause order service wait. Stand party without hour life high administration.', 'date': '2021-08-20', 'patient_left': False, 'emotion': 'good', 'confidence': 7.55537315619843}\n",
      "--------------------\n",
      "ID du document : MKZFIIkBSFhSL_GYfnwe\n",
      "Données du document : {'patient_lastname': 'Parks', 'patient_firstname': 'Peter', 'text': 'End store present suggest institution study. Change goal like significant night commercial strong.', 'date': '2022-04-27', 'patient_left': False, 'emotion': 'professional', 'confidence': 339369.887284013}\n",
      "--------------------\n",
      "ID du document : MaZFIIkBSFhSL_GYfnw0\n",
      "Données du document : {'patient_lastname': 'Bennett', 'patient_firstname': 'Angelica', 'text': 'Energy heavy century word run. Lead your move local. Baby discussion increase marriage.', 'date': '2022-08-01', 'patient_left': False, 'emotion': 'ten', 'confidence': 7274377277126.91}\n",
      "--------------------\n",
      "ID du document : MqZFIIkBSFhSL_GYfnxH\n",
      "Données du document : {'patient_lastname': 'Fowler', 'patient_firstname': 'April', 'text': 'Surface official consumer nature four away. Grow easy entire. Grow husband two.\\nRepublican receive small car throughout last.', 'date': '2022-03-17', 'patient_left': True, 'emotion': 'against', 'confidence': 847147.405537573}\n",
      "--------------------\n",
      "ID du document : M6ZFIIkBSFhSL_GYfnxY\n",
      "Données du document : {'patient_lastname': 'Hernandez', 'patient_firstname': 'Michael', 'text': 'Method produce majority south certainly organization.\\nPast significant meet response which develop. Culture community write near main.', 'date': '2020-07-06', 'patient_left': False, 'emotion': 'raise', 'confidence': -26153762818.73}\n",
      "--------------------\n",
      "ID du document : NKZFIIkBSFhSL_GYfnxr\n",
      "Données du document : {'patient_lastname': 'Walker', 'patient_firstname': 'Molly', 'text': 'Somebody than per whether cup feeling care short. Including push conference his that kitchen.', 'date': '2021-01-21', 'patient_left': False, 'emotion': 'career', 'confidence': -80618996257446.4}\n",
      "--------------------\n",
      "ID du document : NaZFIIkBSFhSL_GYfnyB\n",
      "Données du document : {'patient_lastname': 'Vargas', 'patient_firstname': 'Amy', 'text': 'Board be hundred pull claim many prevent. Model to challenge ok. Statement leg truth parent. Weight month home some anything page.\\nPattern open seek less go. Page according hope court own name until.', 'date': '2021-05-06', 'patient_left': True, 'emotion': 'easy', 'confidence': -5592958509.76912}\n",
      "--------------------\n",
      "ID du document : NqZFIIkBSFhSL_GYfnyT\n",
      "Données du document : {'patient_lastname': 'Rodriguez', 'patient_firstname': 'Kayla', 'text': 'Defense happy every. Worry music lay.\\nLearn can instead material half. Pattern act fear.\\nSpecific already special cell marriage.', 'date': '2022-03-20', 'patient_left': False, 'emotion': 'hospital', 'confidence': 491761445.182899}\n",
      "--------------------\n",
      "ID du document : N6ZFIIkBSFhSL_GYfnyj\n",
      "Données du document : {'patient_lastname': 'Howard', 'patient_firstname': 'Jason', 'text': 'Why north cup former poor wonder choose. Ability degree son rest care beat.\\nScene require focus maybe risk it. Great anyone blood either dinner page.', 'date': '2022-09-29', 'patient_left': True, 'emotion': 'director', 'confidence': -600.388640072275}\n",
      "--------------------\n",
      "ID du document : OKZFIIkBSFhSL_GYfny0\n",
      "Données du document : {'patient_lastname': 'Marquez', 'patient_firstname': 'Erica', 'text': 'New she ahead key family. Product hundred enough law son magazine simple although.\\nSafe pay bad speech agent position. Trouble glass center phone throw. Computer attention spend use education.', 'date': '2021-02-04', 'patient_left': True, 'emotion': 'lay', 'confidence': -84176738527594.6}\n",
      "--------------------\n"
     ]
    },
    {
     "name": "stderr",
     "output_type": "stream",
     "text": [
      "/tmp/ipykernel_16030/973747655.py:2: DeprecationWarning: The 'body' parameter is deprecated and will be removed in a future version. Instead use individual parameters.\n",
      "  response = es.search(index=\"notes\", body={\"query\": {\"match_all\": {}}})\n",
      "/tmp/ipykernel_16030/973747655.py:2: ElasticsearchWarning: Elasticsearch built-in security features are not enabled. Without authentication, your cluster could be accessible to anyone. See https://www.elastic.co/guide/en/elasticsearch/reference/7.17/security-minimal-setup.html to enable security.\n",
      "  response = es.search(index=\"notes\", body={\"query\": {\"match_all\": {}}})\n"
     ]
    }
   ],
   "source": [
    "# Rechercher tous les documents dans l'index \"notes\"\n",
    "response = es.search(index=\"notes\", body={\"query\": {\"match_all\": {}}})      # envoie une requête pour récupérer des informations sur Elasticsearch. \n",
    "# La réponse contient les documents correspondants. Les documents sont extraits en accédant à response['hits']['hits'].\n",
    "\n",
    "\n",
    "# Récupérer les documents à partir de la réponse\n",
    "documents = response['hits']['hits']\n",
    "\n",
    "# Parcourir les documents et afficher leurs données\n",
    "for doc in documents:\n",
    "    print(\"ID du document :\", doc['_id'])     # L'ID du document est accessible via doc['_id'].\n",
    "    print(\"Données du document :\", doc['_source'])      # Les données du document sont accessibles via doc['_source'].\n",
    "    print(\"--------------------\")\n"
   ]
  }
 ],
 "metadata": {
  "kernelspec": {
   "display_name": "nlp_env",
   "language": "python",
   "name": "python3"
  },
  "language_info": {
   "codemirror_mode": {
    "name": "ipython",
    "version": 3
   },
   "file_extension": ".py",
   "mimetype": "text/x-python",
   "name": "python",
   "nbconvert_exporter": "python",
   "pygments_lexer": "ipython3",
   "version": "3.8.16"
  },
  "orig_nbformat": 4
 },
 "nbformat": 4,
 "nbformat_minor": 2
}
