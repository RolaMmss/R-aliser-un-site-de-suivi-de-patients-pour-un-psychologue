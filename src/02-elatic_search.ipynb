{
 "cells": [
  {
   "cell_type": "code",
   "execution_count": 1,
   "metadata": {},
   "outputs": [],
   "source": [
    "from faker import Faker\n",
    "from elasticsearch import Elasticsearch"
   ]
  },
  {
   "cell_type": "code",
   "execution_count": 13,
   "metadata": {},
   "outputs": [
    {
     "name": "stdout",
     "output_type": "stream",
     "text": [
      "OpenSSL 3.0.9 30 May 2023\n"
     ]
    }
   ],
   "source": [
    "import ssl\n",
    "\n",
    "print(ssl.OPENSSL_VERSION)\n"
   ]
  },
  {
   "cell_type": "code",
   "execution_count": 20,
   "metadata": {},
   "outputs": [
    {
     "name": "stderr",
     "output_type": "stream",
     "text": [
      "/tmp/ipykernel_70008/2051897845.py:22: DeprecationWarning: The 'body' parameter is deprecated and will be removed in a future version. Instead use the 'document' parameter. See https://github.com/elastic/elasticsearch-py/issues/1698 for more information\n",
      "  es.index(index=\"notes\", body=document)\n",
      "/tmp/ipykernel_70008/2051897845.py:22: ElasticsearchWarning: Elasticsearch built-in security features are not enabled. Without authentication, your cluster could be accessible to anyone. See https://www.elastic.co/guide/en/elasticsearch/reference/7.17/security-minimal-setup.html to enable security.\n",
      "  es.index(index=\"notes\", body=document)\n"
     ]
    }
   ],
   "source": [
    "# Instancier le générateur de données Faker\n",
    "fake = Faker()\n",
    "\n",
    "es = Elasticsearch([{'host': 'localhost', 'port':9200, 'scheme':'http'}])\n",
    "\n",
    "# Nombre de documents à générer\n",
    "num_documents = 100\n",
    "\n",
    "# Boucle pour générer les documents et les indexer dans Elasticsearch\n",
    "for _ in range(num_documents):\n",
    "    document = {\n",
    "        \"patient_lastname\": fake.last_name(),\n",
    "        \"patient_firstname\": fake.first_name(),\n",
    "        \"text\": fake.text(),\n",
    "        \"date\": fake.date_this_decade(),\n",
    "        \"patient_left\": fake.boolean(),\n",
    "        \"emotion\": fake.word(),\n",
    "        \"confidence\": fake.pyfloat()\n",
    "    }\n",
    "\n",
    "    # Indexer le document dans Elasticsearch\n",
    "    es.index(index=\"notes\", body=document)\n"
   ]
  },
  {
   "cell_type": "code",
   "execution_count": null,
   "metadata": {},
   "outputs": [],
   "source": []
  },
  {
   "cell_type": "code",
   "execution_count": 19,
   "metadata": {},
   "outputs": [
    {
     "name": "stdout",
     "output_type": "stream",
     "text": [
      "Version d'Elasticsearch : 7.17.10\n"
     ]
    },
    {
     "name": "stderr",
     "output_type": "stream",
     "text": [
      "/tmp/ipykernel_70008/1761154463.py:15: ElasticsearchWarning: Elasticsearch built-in security features are not enabled. Without authentication, your cluster could be accessible to anyone. See https://www.elastic.co/guide/en/elasticsearch/reference/7.17/security-minimal-setup.html to enable security.\n",
      "  response = es.info()\n"
     ]
    }
   ],
   "source": [
    "from elasticsearch import Elasticsearch\n",
    "\n",
    "\n",
    "#disable certificate\n",
    "\n",
    "\n",
    "es = Elasticsearch([{'host': 'localhost', 'port':9200, 'scheme':'http'}])\n",
    "\n",
    "\n",
    "# Instancier le client Elasticsearch\n",
    "# es = Elasticsearch(\n",
    "#     ['https://localhost:9200/'])\n",
    "\n",
    "# Récupérer la version d'Elasticsearch\n",
    "response = es.info()\n",
    "\n",
    "# Extraire la version à partir de la réponse\n",
    "version = response['version']['number']\n",
    "\n",
    "# Afficher la version\n",
    "print(\"Version d'Elasticsearch :\", version)"
   ]
  }
 ],
 "metadata": {
  "kernelspec": {
   "display_name": "nlp_env",
   "language": "python",
   "name": "python3"
  },
  "language_info": {
   "codemirror_mode": {
    "name": "ipython",
    "version": 3
   },
   "file_extension": ".py",
   "mimetype": "text/x-python",
   "name": "python",
   "nbconvert_exporter": "python",
   "pygments_lexer": "ipython3",
   "version": "3.8.16"
  },
  "orig_nbformat": 4
 },
 "nbformat": 4,
 "nbformat_minor": 2
}
