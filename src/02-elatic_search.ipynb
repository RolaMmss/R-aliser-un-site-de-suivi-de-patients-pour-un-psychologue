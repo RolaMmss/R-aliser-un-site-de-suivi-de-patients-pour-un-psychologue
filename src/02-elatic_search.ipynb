{
 "cells": [
  {
   "cell_type": "code",
   "execution_count": 22,
   "metadata": {},
   "outputs": [],
   "source": [
    "from faker import Faker\n",
    "from elasticsearch import Elasticsearch"
   ]
  },
  {
   "cell_type": "code",
   "execution_count": 23,
   "metadata": {},
   "outputs": [
    {
     "name": "stderr",
     "output_type": "stream",
     "text": [
      "/tmp/ipykernel_70008/2051897845.py:22: DeprecationWarning: The 'body' parameter is deprecated and will be removed in a future version. Instead use the 'document' parameter. See https://github.com/elastic/elasticsearch-py/issues/1698 for more information\n",
      "  es.index(index=\"notes\", body=document)\n",
      "/tmp/ipykernel_70008/2051897845.py:22: ElasticsearchWarning: Elasticsearch built-in security features are not enabled. Without authentication, your cluster could be accessible to anyone. See https://www.elastic.co/guide/en/elasticsearch/reference/7.17/security-minimal-setup.html to enable security.\n",
      "  es.index(index=\"notes\", body=document)\n"
     ]
    }
   ],
   "source": [
    "# Instancier le générateur de données Faker\n",
    "fake = Faker()\n",
    "\n",
    "es = Elasticsearch([{'host': 'localhost', 'port':9200, 'scheme':'http'}])\n",
    "\n",
    "# Nombre de documents à générer\n",
    "num_documents = 100\n",
    "\n",
    "# Boucle pour générer les documents et les indexer dans Elasticsearch\n",
    "for _ in range(num_documents):\n",
    "    document = {\n",
    "        \"patient_lastname\": fake.last_name(),\n",
    "        \"patient_firstname\": fake.first_name(),\n",
    "        \"text\": fake.text(),\n",
    "        \"date\": fake.date_this_decade(),\n",
    "        \"patient_left\": fake.boolean(),\n",
    "        \"emotion\": fake.word(),\n",
    "        \"confidence\": fake.pyfloat()\n",
    "    }\n",
    "\n",
    "    # Indexer le document dans Elasticsearch\n",
    "    es.index(index=\"notes\", body=document)\n"
   ]
  },
  {
   "cell_type": "code",
   "execution_count": 24,
   "metadata": {},
   "outputs": [
    {
     "name": "stdout",
     "output_type": "stream",
     "text": [
      "Version d'Elasticsearch : 7.17.10\n"
     ]
    },
    {
     "name": "stderr",
     "output_type": "stream",
     "text": [
      "/tmp/ipykernel_70008/3159305979.py:4: ElasticsearchWarning: Elasticsearch built-in security features are not enabled. Without authentication, your cluster could be accessible to anyone. See https://www.elastic.co/guide/en/elasticsearch/reference/7.17/security-minimal-setup.html to enable security.\n",
      "  response = es.info()\n"
     ]
    }
   ],
   "source": [
    "es = Elasticsearch([{'host': 'localhost', 'port':9200, 'scheme':'http'}])\n",
    "\n",
    "# Récupérer la version d'Elasticsearch\n",
    "response = es.info()\n",
    "\n",
    "# Extraire la version à partir de la réponse\n",
    "version = response['version']['number']\n",
    "\n",
    "# Afficher la version\n",
    "print(\"Version d'Elasticsearch :\", version)"
   ]
  },
  {
   "cell_type": "code",
   "execution_count": 25,
   "metadata": {},
   "outputs": [
    {
     "name": "stderr",
     "output_type": "stream",
     "text": [
      "/tmp/ipykernel_70008/973747655.py:2: DeprecationWarning: The 'body' parameter is deprecated and will be removed in a future version. Instead use individual parameters.\n",
      "  response = es.search(index=\"notes\", body={\"query\": {\"match_all\": {}}})\n"
     ]
    },
    {
     "name": "stdout",
     "output_type": "stream",
     "text": [
      "ID du document : REo-IIkB8LqwVNGaLPeY\n",
      "Données du document : {'patient_lastname': 'King', 'patient_firstname': 'Ruth', 'text': 'Follow hit any officer trade. Second store prevent check half for entire.\\nCharge TV order maybe. Right focus develop listen.', 'date': '2020-09-14', 'patient_left': False, 'emotion': 'animal', 'confidence': -731.896888509385}\n",
      "--------------------\n",
      "ID du document : RUo-IIkB8LqwVNGaLPep\n",
      "Données du document : {'patient_lastname': 'Norris', 'patient_firstname': 'Timothy', 'text': 'Game my market own member good idea. Much federal environmental woman. Republican company happen some cultural though.', 'date': '2020-08-10', 'patient_left': False, 'emotion': 'discussion', 'confidence': -2728301.4238001}\n",
      "--------------------\n",
      "ID du document : Rko-IIkB8LqwVNGaLPe4\n",
      "Données du document : {'patient_lastname': 'Weber', 'patient_firstname': 'Meredith', 'text': 'Than international street how. Measure where sea. Both edge admit end recently.\\nDrop practice affect. Factor when discuss gun weight focus. Tonight show response senior early operation tough.', 'date': '2021-04-26', 'patient_left': False, 'emotion': 'between', 'confidence': -1413781421.79334}\n",
      "--------------------\n",
      "ID du document : R0o-IIkB8LqwVNGaLPfJ\n",
      "Données du document : {'patient_lastname': 'Solis', 'patient_firstname': 'Jennifer', 'text': 'True cup office believe. Face them meet child tonight pay.\\nAir south discuss shoulder purpose walk Democrat. Middle civil second toward bag thing member.', 'date': '2023-03-24', 'patient_left': False, 'emotion': 'meet', 'confidence': 65.13671490035}\n",
      "--------------------\n",
      "ID du document : SEo-IIkB8LqwVNGaLPfY\n",
      "Données du document : {'patient_lastname': 'Henderson', 'patient_firstname': 'Ryan', 'text': 'Dinner suffer box ask force would address purpose. Happy sing avoid me foot. Memory yes south.', 'date': '2020-12-25', 'patient_left': True, 'emotion': 'hope', 'confidence': 41859134626164.7}\n",
      "--------------------\n",
      "ID du document : SUo-IIkB8LqwVNGaLPfn\n",
      "Données du document : {'patient_lastname': 'Long', 'patient_firstname': 'Amber', 'text': 'Forget face police camera everything. Wide concern our same cause meeting run.\\nEducation difficult clear. Democrat a it partner nature wall late job.', 'date': '2022-04-25', 'patient_left': False, 'emotion': 'build', 'confidence': -92398676438116.1}\n",
      "--------------------\n",
      "ID du document : Sko-IIkB8LqwVNGaLPf1\n",
      "Données du document : {'patient_lastname': 'Rivera', 'patient_firstname': 'Bruce', 'text': 'Walk imagine rich whole sense decision. Enter me maybe better camera could. Building social occur upon spring week power. Run provide group listen case traditional.', 'date': '2023-01-29', 'patient_left': False, 'emotion': 'most', 'confidence': -377546197566.223}\n",
      "--------------------\n",
      "ID du document : S0o-IIkB8LqwVNGaLfcD\n",
      "Données du document : {'patient_lastname': 'Gutierrez', 'patient_firstname': 'Richard', 'text': 'Draw for him above book sound.\\nPhysical yet religious a increase see maybe. Each alone edge fine.\\nMind explain however dream politics. Best born phone age western theory stuff.', 'date': '2023-06-13', 'patient_left': False, 'emotion': 'party', 'confidence': -220.846125821259}\n",
      "--------------------\n",
      "ID du document : TEo-IIkB8LqwVNGaLfcQ\n",
      "Données du document : {'patient_lastname': 'Schultz', 'patient_firstname': 'Kayla', 'text': 'Goal commercial chance get. Attention others movie billion alone list.\\nMachine best give media until.\\nAddress experience that city clear cultural. Feel religious those treat never.', 'date': '2023-03-15', 'patient_left': True, 'emotion': 'enjoy', 'confidence': 741319861366.135}\n",
      "--------------------\n",
      "ID du document : TUo-IIkB8LqwVNGaLfce\n",
      "Données du document : {'patient_lastname': 'Mccann', 'patient_firstname': 'John', 'text': 'Pull window claim relationship. Too special energy forget laugh bag church. Brother increase appear direction.\\nMuch manager possible hit country focus.', 'date': '2022-03-20', 'patient_left': False, 'emotion': 'identify', 'confidence': 212956319.31239}\n",
      "--------------------\n"
     ]
    },
    {
     "name": "stderr",
     "output_type": "stream",
     "text": [
      "/tmp/ipykernel_70008/973747655.py:2: ElasticsearchWarning: Elasticsearch built-in security features are not enabled. Without authentication, your cluster could be accessible to anyone. See https://www.elastic.co/guide/en/elasticsearch/reference/7.17/security-minimal-setup.html to enable security.\n",
      "  response = es.search(index=\"notes\", body={\"query\": {\"match_all\": {}}})\n"
     ]
    }
   ],
   "source": [
    "# Rechercher tous les documents dans l'index \"notes\"\n",
    "response = es.search(index=\"notes\", body={\"query\": {\"match_all\": {}}})\n",
    "\n",
    "# Récupérer les documents à partir de la réponse\n",
    "documents = response['hits']['hits']\n",
    "\n",
    "# Parcourir les documents et afficher leurs données\n",
    "for doc in documents:\n",
    "    print(\"ID du document :\", doc['_id'])\n",
    "    print(\"Données du document :\", doc['_source'])\n",
    "    print(\"--------------------\")\n"
   ]
  },
  {
   "cell_type": "code",
   "execution_count": null,
   "metadata": {},
   "outputs": [],
   "source": []
  }
 ],
 "metadata": {
  "kernelspec": {
   "display_name": "nlp_env",
   "language": "python",
   "name": "python3"
  },
  "language_info": {
   "codemirror_mode": {
    "name": "ipython",
    "version": 3
   },
   "file_extension": ".py",
   "mimetype": "text/x-python",
   "name": "python",
   "nbconvert_exporter": "python",
   "pygments_lexer": "ipython3",
   "version": "3.8.16"
  },
  "orig_nbformat": 4
 },
 "nbformat": 4,
 "nbformat_minor": 2
}
