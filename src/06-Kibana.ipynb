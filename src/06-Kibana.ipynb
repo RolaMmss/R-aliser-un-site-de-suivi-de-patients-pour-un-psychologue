{
 "cells": [
  {
   "attachments": {},
   "cell_type": "markdown",
   "metadata": {},
   "source": [
    "## <font color=\"green\"> | - La suite ELK :</font>"
   ]
  },
  {
   "attachments": {},
   "cell_type": "markdown",
   "metadata": {},
   "source": [
    "    La suite ELK est une combinaison de trois logiciels open source : Elasticsearch, Logstash et Kibana. Ces trois outils sont souvent utilisés ensemble pour collecter, stocker, analyser et visualiser les données.\n",
    "\n",
    "       * Elasticsearch : Elasticsearch est un moteur de recherche et d'analyse distribué basé sur Apache Lucene. Il est conçu pour fournir une recherche et une analyse en temps réel de grandes quantités de données structurées et non structurées. Elasticsearch utilise un modèle de stockage indexé et distribué, ce qui permet d'obtenir des performances élevées et une scalabilité horizontale.\n",
    "\n",
    "       * Logstash : Logstash est un outil de collecte, de transformation et d'expédition de données. Il permet de collecter des données à partir de différentes sources telles que des fichiers journaux, des bases de données, des messages en file d'attente, etc. Logstash peut ensuite transformer et enrichir ces données avant de les envoyer à Elasticsearch pour l'indexation et l'analyse.\n",
    "\n",
    "       * Kibana : Kibana est une interface utilisateur de visualisation de données qui fonctionne avec Elasticsearch. Il permet de créer des tableaux de bord interactifs, des graphiques et des visualisations basés sur les données indexées dans Elasticsearch. Kibana offre des fonctionnalités de recherche avancée, de filtrage, d'exploration de données et de surveillance en temps réel."
   ]
  },
  {
   "cell_type": "code",
   "execution_count": null,
   "metadata": {},
   "outputs": [],
   "source": []
  },
  {
   "cell_type": "markdown",
   "metadata": {},
   "source": []
  },
  {
   "attachments": {},
   "cell_type": "markdown",
   "metadata": {},
   "source": [
    "## <font color=\"green\"> | - ELK :</font>"
   ]
  },
  {
   "cell_type": "markdown",
   "metadata": {},
   "source": []
  },
  {
   "attachments": {},
   "cell_type": "markdown",
   "metadata": {},
   "source": [
    "## <font color=\"green\"> | - ELK :</font>"
   ]
  }
 ],
 "metadata": {
  "language_info": {
   "name": "python"
  },
  "orig_nbformat": 4
 },
 "nbformat": 4,
 "nbformat_minor": 2
}
