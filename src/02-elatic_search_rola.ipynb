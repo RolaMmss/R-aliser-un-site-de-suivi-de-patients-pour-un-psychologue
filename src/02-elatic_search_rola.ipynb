{
 "cells": [
  {
   "cell_type": "code",
   "execution_count": 1,
   "metadata": {},
   "outputs": [],
   "source": [
    "from faker import Faker\n",
    "from elasticsearch import Elasticsearch"
   ]
  },
  {
   "cell_type": "code",
   "execution_count": 4,
   "metadata": {},
   "outputs": [
    {
     "ename": "TypeError",
     "evalue": "__init__() missing 1 required positional argument: 'scheme'",
     "output_type": "error",
     "traceback": [
      "\u001b[0;31m---------------------------------------------------------------------------\u001b[0m",
      "\u001b[0;31mTypeError\u001b[0m                                 Traceback (most recent call last)",
      "Cell \u001b[0;32mIn[4], line 5\u001b[0m\n\u001b[1;32m      2\u001b[0m \u001b[39mfrom\u001b[39;00m \u001b[39mfaker\u001b[39;00m \u001b[39mimport\u001b[39;00m Faker\n\u001b[1;32m      4\u001b[0m \u001b[39m# Créer une instance Elasticsearch\u001b[39;00m\n\u001b[0;32m----> 5\u001b[0m es \u001b[39m=\u001b[39m Elasticsearch([{\u001b[39m'\u001b[39;49m\u001b[39mhost\u001b[39;49m\u001b[39m'\u001b[39;49m: \u001b[39m'\u001b[39;49m\u001b[39mlocalhost\u001b[39;49m\u001b[39m'\u001b[39;49m, \u001b[39m'\u001b[39;49m\u001b[39mport\u001b[39;49m\u001b[39m'\u001b[39;49m: \u001b[39m9200\u001b[39;49m}])\n\u001b[1;32m      7\u001b[0m \u001b[39m# Créer un générateur Faker\u001b[39;00m\n\u001b[1;32m      8\u001b[0m fake \u001b[39m=\u001b[39m Faker()\n",
      "File \u001b[0;32m~/miniconda3/envs/nlp_env/lib/python3.8/site-packages/elasticsearch/_sync/client/__init__.py:331\u001b[0m, in \u001b[0;36mElasticsearch.__init__\u001b[0;34m(self, hosts, cloud_id, api_key, basic_auth, bearer_auth, opaque_id, headers, connections_per_node, http_compress, verify_certs, ca_certs, client_cert, client_key, ssl_assert_hostname, ssl_assert_fingerprint, ssl_version, ssl_context, ssl_show_warn, transport_class, request_timeout, node_class, node_pool_class, randomize_nodes_in_pool, node_selector_class, dead_node_backoff_factor, max_dead_node_backoff, serializer, serializers, default_mimetype, max_retries, retry_on_status, retry_on_timeout, sniff_on_start, sniff_before_requests, sniff_on_node_failure, sniff_timeout, min_delay_between_sniffing, sniffed_node_callback, meta_header, timeout, randomize_hosts, host_info_callback, sniffer_timeout, sniff_on_connection_fail, http_auth, maxsize, _transport)\u001b[0m\n\u001b[1;32m    328\u001b[0m         requests_session_auth \u001b[39m=\u001b[39m http_auth\n\u001b[1;32m    329\u001b[0m         http_auth \u001b[39m=\u001b[39m DEFAULT\n\u001b[0;32m--> 331\u001b[0m node_configs \u001b[39m=\u001b[39m client_node_configs(\n\u001b[1;32m    332\u001b[0m     hosts,\n\u001b[1;32m    333\u001b[0m     cloud_id\u001b[39m=\u001b[39;49mcloud_id,\n\u001b[1;32m    334\u001b[0m     requests_session_auth\u001b[39m=\u001b[39;49mrequests_session_auth,\n\u001b[1;32m    335\u001b[0m     connections_per_node\u001b[39m=\u001b[39;49mconnections_per_node,\n\u001b[1;32m    336\u001b[0m     http_compress\u001b[39m=\u001b[39;49mhttp_compress,\n\u001b[1;32m    337\u001b[0m     verify_certs\u001b[39m=\u001b[39;49mverify_certs,\n\u001b[1;32m    338\u001b[0m     ca_certs\u001b[39m=\u001b[39;49mca_certs,\n\u001b[1;32m    339\u001b[0m     client_cert\u001b[39m=\u001b[39;49mclient_cert,\n\u001b[1;32m    340\u001b[0m     client_key\u001b[39m=\u001b[39;49mclient_key,\n\u001b[1;32m    341\u001b[0m     ssl_assert_hostname\u001b[39m=\u001b[39;49mssl_assert_hostname,\n\u001b[1;32m    342\u001b[0m     ssl_assert_fingerprint\u001b[39m=\u001b[39;49mssl_assert_fingerprint,\n\u001b[1;32m    343\u001b[0m     ssl_version\u001b[39m=\u001b[39;49mssl_version,\n\u001b[1;32m    344\u001b[0m     ssl_context\u001b[39m=\u001b[39;49mssl_context,\n\u001b[1;32m    345\u001b[0m     ssl_show_warn\u001b[39m=\u001b[39;49mssl_show_warn,\n\u001b[1;32m    346\u001b[0m )\n\u001b[1;32m    347\u001b[0m transport_kwargs: t\u001b[39m.\u001b[39mDict[\u001b[39mstr\u001b[39m, t\u001b[39m.\u001b[39mAny] \u001b[39m=\u001b[39m {}\n\u001b[1;32m    348\u001b[0m \u001b[39mif\u001b[39;00m node_class \u001b[39mis\u001b[39;00m \u001b[39mnot\u001b[39;00m DEFAULT:\n",
      "File \u001b[0;32m~/miniconda3/envs/nlp_env/lib/python3.8/site-packages/elasticsearch/_sync/client/utils.py:105\u001b[0m, in \u001b[0;36mclient_node_configs\u001b[0;34m(hosts, cloud_id, requests_session_auth, **kwargs)\u001b[0m\n\u001b[1;32m    103\u001b[0m \u001b[39melse\u001b[39;00m:\n\u001b[1;32m    104\u001b[0m     \u001b[39massert\u001b[39;00m hosts \u001b[39mis\u001b[39;00m \u001b[39mnot\u001b[39;00m \u001b[39mNone\u001b[39;00m\n\u001b[0;32m--> 105\u001b[0m     node_configs \u001b[39m=\u001b[39m hosts_to_node_configs(hosts)\n\u001b[1;32m    107\u001b[0m \u001b[39m# Remove all values which are 'DEFAULT' to avoid overwriting actual defaults.\u001b[39;00m\n\u001b[1;32m    108\u001b[0m node_options \u001b[39m=\u001b[39m {k: v \u001b[39mfor\u001b[39;00m k, v \u001b[39min\u001b[39;00m kwargs\u001b[39m.\u001b[39mitems() \u001b[39mif\u001b[39;00m v \u001b[39mis\u001b[39;00m \u001b[39mnot\u001b[39;00m DEFAULT}\n",
      "File \u001b[0;32m~/miniconda3/envs/nlp_env/lib/python3.8/site-packages/elasticsearch/_sync/client/utils.py:154\u001b[0m, in \u001b[0;36mhosts_to_node_configs\u001b[0;34m(hosts)\u001b[0m\n\u001b[1;32m    151\u001b[0m     node_configs\u001b[39m.\u001b[39mappend(url_to_node_config(host))\n\u001b[1;32m    153\u001b[0m \u001b[39melif\u001b[39;00m \u001b[39misinstance\u001b[39m(host, Mapping):\n\u001b[0;32m--> 154\u001b[0m     node_configs\u001b[39m.\u001b[39mappend(host_mapping_to_node_config(host))\n\u001b[1;32m    155\u001b[0m \u001b[39melse\u001b[39;00m:\n\u001b[1;32m    156\u001b[0m     \u001b[39mraise\u001b[39;00m \u001b[39mValueError\u001b[39;00m(\n\u001b[1;32m    157\u001b[0m         \u001b[39m\"\u001b[39m\u001b[39m'\u001b[39m\u001b[39mhosts\u001b[39m\u001b[39m'\u001b[39m\u001b[39m must be a list of URLs, NodeConfigs, or dictionaries\u001b[39m\u001b[39m\"\u001b[39m\n\u001b[1;32m    158\u001b[0m     )\n",
      "File \u001b[0;32m~/miniconda3/envs/nlp_env/lib/python3.8/site-packages/elasticsearch/_sync/client/utils.py:221\u001b[0m, in \u001b[0;36mhost_mapping_to_node_config\u001b[0;34m(host)\u001b[0m\n\u001b[1;32m    214\u001b[0m     warnings\u001b[39m.\u001b[39mwarn(\n\u001b[1;32m    215\u001b[0m         \u001b[39m\"\u001b[39m\u001b[39mThe \u001b[39m\u001b[39m'\u001b[39m\u001b[39murl_prefix\u001b[39m\u001b[39m'\u001b[39m\u001b[39m option is deprecated in favor of \u001b[39m\u001b[39m'\u001b[39m\u001b[39mpath_prefix\u001b[39m\u001b[39m'\u001b[39m\u001b[39m\"\u001b[39m,\n\u001b[1;32m    216\u001b[0m         category\u001b[39m=\u001b[39m\u001b[39mDeprecationWarning\u001b[39;00m,\n\u001b[1;32m    217\u001b[0m         stacklevel\u001b[39m=\u001b[39mwarn_stacklevel(),\n\u001b[1;32m    218\u001b[0m     )\n\u001b[1;32m    219\u001b[0m     options[\u001b[39m\"\u001b[39m\u001b[39mpath_prefix\u001b[39m\u001b[39m\"\u001b[39m] \u001b[39m=\u001b[39m options\u001b[39m.\u001b[39mpop(\u001b[39m\"\u001b[39m\u001b[39murl_prefix\u001b[39m\u001b[39m\"\u001b[39m)\n\u001b[0;32m--> 221\u001b[0m \u001b[39mreturn\u001b[39;00m NodeConfig(\u001b[39m*\u001b[39;49m\u001b[39m*\u001b[39;49moptions)\n",
      "\u001b[0;31mTypeError\u001b[0m: __init__() missing 1 required positional argument: 'scheme'"
     ]
    }
   ],
   "source": [
    "from elasticsearch import Elasticsearch\n",
    "from faker import Faker\n",
    "\n",
    "# Créer une instance Elasticsearch\n",
    "es = Elasticsearch([{'host': 'localhost', 'port': 9200}])\n",
    "\n",
    "# Créer un générateur Faker\n",
    "fake = Faker()\n",
    "\n",
    "# Nombre de documents à générer\n",
    "num_documents = 100\n",
    "\n",
    "# Générer et indexer les documents\n",
    "for _ in range(num_documents):\n",
    "    document = {\n",
    "        \"patient_lastname\": fake.last_name(),\n",
    "        \"patient_firstname\": fake.first_name(),\n",
    "        \"text\": fake.text(),\n",
    "        \"date\": fake.date(),\n",
    "        \"patient_left\": fake.boolean(),\n",
    "        \"emotion\": \"\",  # Rempli par le modèle TF-IDF\n",
    "        \"confidence\": 0.0  # Rempli par le modèle TF-IDF\n",
    "    }\n",
    "    es.index(index='notes', body=document)\n"
   ]
  }
 ],
 "metadata": {
  "kernelspec": {
   "display_name": "nlp_env",
   "language": "python",
   "name": "python3"
  },
  "language_info": {
   "codemirror_mode": {
    "name": "ipython",
    "version": 3
   },
   "file_extension": ".py",
   "mimetype": "text/x-python",
   "name": "python",
   "nbconvert_exporter": "python",
   "pygments_lexer": "ipython3",
   "version": "3.8.16"
  },
  "orig_nbformat": 4
 },
 "nbformat": 4,
 "nbformat_minor": 2
}
