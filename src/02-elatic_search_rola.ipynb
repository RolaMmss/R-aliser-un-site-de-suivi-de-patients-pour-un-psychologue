{
 "cells": [
  {
   "cell_type": "code",
   "execution_count": 1,
   "metadata": {},
   "outputs": [],
   "source": [
    "from faker import Faker\n",
    "from elasticsearch import Elasticsearch"
   ]
  },
  {
   "cell_type": "code",
   "execution_count": 3,
   "metadata": {},
   "outputs": [
    {
     "ename": "TypeError",
     "evalue": "__init__() got an unexpected keyword argument 'scheme'",
     "output_type": "error",
     "traceback": [
      "\u001b[0;31m---------------------------------------------------------------------------\u001b[0m",
      "\u001b[0;31mTypeError\u001b[0m                                 Traceback (most recent call last)",
      "Cell \u001b[0;32mIn[3], line 5\u001b[0m\n\u001b[1;32m      2\u001b[0m \u001b[39mfrom\u001b[39;00m \u001b[39mfaker\u001b[39;00m \u001b[39mimport\u001b[39;00m Faker\n\u001b[1;32m      4\u001b[0m \u001b[39m# Create an instance of Elasticsearch client\u001b[39;00m\n\u001b[0;32m----> 5\u001b[0m es \u001b[39m=\u001b[39m Elasticsearch(\n\u001b[1;32m      6\u001b[0m     [\n\u001b[1;32m      7\u001b[0m         {\u001b[39m'\u001b[39;49m\u001b[39mhost\u001b[39;49m\u001b[39m'\u001b[39;49m: \u001b[39m'\u001b[39;49m\u001b[39mlocalhost\u001b[39;49m\u001b[39m'\u001b[39;49m, \u001b[39m'\u001b[39;49m\u001b[39mport\u001b[39;49m\u001b[39m'\u001b[39;49m: \u001b[39m9200\u001b[39;49m}\n\u001b[1;32m      8\u001b[0m     ],\n\u001b[1;32m      9\u001b[0m     scheme\u001b[39m=\u001b[39;49m\u001b[39m'\u001b[39;49m\u001b[39mhttp\u001b[39;49m\u001b[39m'\u001b[39;49m  \u001b[39m# Specify the scheme, such as 'http' or 'https'\u001b[39;49;00m\n\u001b[1;32m     10\u001b[0m )\n\u001b[1;32m     12\u001b[0m \u001b[39m# Créer un générateur Faker\u001b[39;00m\n\u001b[1;32m     13\u001b[0m fake \u001b[39m=\u001b[39m Faker()\n",
      "\u001b[0;31mTypeError\u001b[0m: __init__() got an unexpected keyword argument 'scheme'"
     ]
    }
   ],
   "source": [
    "from elasticsearch import Elasticsearch\n",
    "from faker import Faker\n",
    "\n",
    "# Créer une instance Elasticsearch\n",
    "es = Elasticsearch([{'host': 'localhost', 'port': 9200}])\n",
    "\n",
    "# Créer un générateur Faker\n",
    "fake = Faker()\n",
    "\n",
    "# Nombre de documents à générer\n",
    "num_documents = 100\n",
    "\n",
    "# Générer et indexer les documents\n",
    "for _ in range(num_documents):\n",
    "    document = {\n",
    "        \"patient_lastname\": fake.last_name(),\n",
    "        \"patient_firstname\": fake.first_name(),\n",
    "        \"text\": fake.text(),\n",
    "        \"date\": fake.date(),\n",
    "        \"patient_left\": fake.boolean(),\n",
    "        \"emotion\": \"\",  # Rempli par le modèle TF-IDF\n",
    "        \"confidence\": 0.0  # Rempli par le modèle TF-IDF\n",
    "    }\n",
    "    es.index(index='notes', body=document)\n"
   ]
  }
 ],
 "metadata": {
  "kernelspec": {
   "display_name": "nlp_env",
   "language": "python",
   "name": "python3"
  },
  "language_info": {
   "codemirror_mode": {
    "name": "ipython",
    "version": 3
   },
   "file_extension": ".py",
   "mimetype": "text/x-python",
   "name": "python",
   "nbconvert_exporter": "python",
   "pygments_lexer": "ipython3",
   "version": "3.8.16"
  },
  "orig_nbformat": 4
 },
 "nbformat": 4,
 "nbformat_minor": 2
}
