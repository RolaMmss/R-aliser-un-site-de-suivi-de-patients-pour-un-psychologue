{
 "cells": [
  {
   "cell_type": "code",
   "execution_count": 41,
   "metadata": {},
   "outputs": [],
   "source": [
    "import pandas as pd\n",
    "import texthero as hero\n",
    "import matplotlib.pyplot as plt\n",
    "import seaborn as sns\n",
    "from texthero import preprocessing\n",
    "import nltk\n",
    "from nltk import FreqDist\n",
    "from nltk.corpus import stopwords\n",
    "from sklearn.feature_extraction.text import CountVectorizer, TfidfVectorizer\n",
    "from sklearn.metrics.pairwise import cosine_similarity\n",
    "\n"
   ]
  },
  {
   "cell_type": "code",
   "execution_count": 42,
   "metadata": {},
   "outputs": [],
   "source": [
    "# Chargement du jeu de données\n",
    "data= pd.read_csv(\"../data/Emotion_final.csv\")                                                                                                                                                                                                          "
   ]
  },
  {
   "cell_type": "code",
   "execution_count": 43,
   "metadata": {},
   "outputs": [
    {
     "data": {
      "text/html": [
       "<div>\n",
       "<style scoped>\n",
       "    .dataframe tbody tr th:only-of-type {\n",
       "        vertical-align: middle;\n",
       "    }\n",
       "\n",
       "    .dataframe tbody tr th {\n",
       "        vertical-align: top;\n",
       "    }\n",
       "\n",
       "    .dataframe thead th {\n",
       "        text-align: right;\n",
       "    }\n",
       "</style>\n",
       "<table border=\"1\" class=\"dataframe\">\n",
       "  <thead>\n",
       "    <tr style=\"text-align: right;\">\n",
       "      <th></th>\n",
       "      <th>Text</th>\n",
       "      <th>Emotion</th>\n",
       "    </tr>\n",
       "  </thead>\n",
       "  <tbody>\n",
       "    <tr>\n",
       "      <th>0</th>\n",
       "      <td>i didnt feel humiliated</td>\n",
       "      <td>sadness</td>\n",
       "    </tr>\n",
       "    <tr>\n",
       "      <th>1</th>\n",
       "      <td>i can go from feeling so hopeless to so damned...</td>\n",
       "      <td>sadness</td>\n",
       "    </tr>\n",
       "    <tr>\n",
       "      <th>2</th>\n",
       "      <td>im grabbing a minute to post i feel greedy wrong</td>\n",
       "      <td>anger</td>\n",
       "    </tr>\n",
       "    <tr>\n",
       "      <th>3</th>\n",
       "      <td>i am ever feeling nostalgic about the fireplac...</td>\n",
       "      <td>love</td>\n",
       "    </tr>\n",
       "    <tr>\n",
       "      <th>4</th>\n",
       "      <td>i am feeling grouchy</td>\n",
       "      <td>anger</td>\n",
       "    </tr>\n",
       "    <tr>\n",
       "      <th>...</th>\n",
       "      <td>...</td>\n",
       "      <td>...</td>\n",
       "    </tr>\n",
       "    <tr>\n",
       "      <th>21454</th>\n",
       "      <td>Melissa stared at her friend in dism</td>\n",
       "      <td>fear</td>\n",
       "    </tr>\n",
       "    <tr>\n",
       "      <th>21455</th>\n",
       "      <td>Successive state elections have seen the gover...</td>\n",
       "      <td>fear</td>\n",
       "    </tr>\n",
       "    <tr>\n",
       "      <th>21456</th>\n",
       "      <td>Vincent was irritated but not dismay</td>\n",
       "      <td>fear</td>\n",
       "    </tr>\n",
       "    <tr>\n",
       "      <th>21457</th>\n",
       "      <td>Kendall-Hume turned back to face the dismayed ...</td>\n",
       "      <td>fear</td>\n",
       "    </tr>\n",
       "    <tr>\n",
       "      <th>21458</th>\n",
       "      <td>I am dismayed , but not surpris</td>\n",
       "      <td>fear</td>\n",
       "    </tr>\n",
       "  </tbody>\n",
       "</table>\n",
       "<p>21459 rows × 2 columns</p>\n",
       "</div>"
      ],
      "text/plain": [
       "                                                    Text  Emotion\n",
       "0                                i didnt feel humiliated  sadness\n",
       "1      i can go from feeling so hopeless to so damned...  sadness\n",
       "2       im grabbing a minute to post i feel greedy wrong    anger\n",
       "3      i am ever feeling nostalgic about the fireplac...     love\n",
       "4                                   i am feeling grouchy    anger\n",
       "...                                                  ...      ...\n",
       "21454               Melissa stared at her friend in dism     fear\n",
       "21455  Successive state elections have seen the gover...     fear\n",
       "21456               Vincent was irritated but not dismay     fear\n",
       "21457  Kendall-Hume turned back to face the dismayed ...     fear\n",
       "21458                    I am dismayed , but not surpris     fear\n",
       "\n",
       "[21459 rows x 2 columns]"
      ]
     },
     "execution_count": 43,
     "metadata": {},
     "output_type": "execute_result"
    }
   ],
   "source": [
    "data"
   ]
  },
  {
   "cell_type": "code",
   "execution_count": 44,
   "metadata": {},
   "outputs": [
    {
     "name": "stdout",
     "output_type": "stream",
     "text": [
      "<class 'pandas.core.frame.DataFrame'>\n",
      "RangeIndex: 21459 entries, 0 to 21458\n",
      "Data columns (total 2 columns):\n",
      " #   Column   Non-Null Count  Dtype \n",
      "---  ------   --------------  ----- \n",
      " 0   Text     21459 non-null  object\n",
      " 1   Emotion  21459 non-null  object\n",
      "dtypes: object(2)\n",
      "memory usage: 335.4+ KB\n"
     ]
    }
   ],
   "source": [
    "data.info()"
   ]
  },
  {
   "cell_type": "code",
   "execution_count": 45,
   "metadata": {},
   "outputs": [
    {
     "data": {
      "text/plain": [
       "array(['sadness', 'anger', 'love', 'surprise', 'fear', 'happy'],\n",
       "      dtype=object)"
      ]
     },
     "execution_count": 45,
     "metadata": {},
     "output_type": "execute_result"
    }
   ],
   "source": [
    "data[\"Emotion\"].unique()"
   ]
  },
  {
   "cell_type": "code",
   "execution_count": 46,
   "metadata": {},
   "outputs": [
    {
     "data": {
      "text/plain": [
       "Text       0\n",
       "Emotion    0\n",
       "dtype: int64"
      ]
     },
     "execution_count": 46,
     "metadata": {},
     "output_type": "execute_result"
    }
   ],
   "source": [
    "data.isna().sum()"
   ]
  },
  {
   "cell_type": "code",
   "execution_count": 47,
   "metadata": {},
   "outputs": [
    {
     "data": {
      "text/plain": [
       "Emotion\n",
       "happy       7029\n",
       "sadness     6265\n",
       "anger       2993\n",
       "fear        2652\n",
       "love        1641\n",
       "surprise     879\n",
       "Name: count, dtype: int64"
      ]
     },
     "execution_count": 47,
     "metadata": {},
     "output_type": "execute_result"
    }
   ],
   "source": [
    "# Répartition des textes par émotions\n",
    "emotion_counts = data['Emotion'].value_counts()\n",
    "emotion_counts"
   ]
  },
  {
   "cell_type": "code",
   "execution_count": 48,
   "metadata": {},
   "outputs": [
    {
     "data": {
      "image/png": "[encoded data removed]",
      "text/plain": [
       "<Figure size 1000x600 with 1 Axes>"
      ]
     },
     "metadata": {},
     "output_type": "display_data"
    }
   ],
   "source": [
    "plt.figure(figsize=(10, 6))\n",
    "sns.barplot(x=emotion_counts.index, y=emotion_counts.values)\n",
    "plt.xlabel('Emotions')\n",
    "plt.ylabel('Nombre de textes')\n",
    "plt.title('Répartition des textes par émotions')\n",
    "plt.show()"
   ]
  },
  {
   "cell_type": "code",
   "execution_count": 49,
   "metadata": {},
   "outputs": [],
   "source": [
    "# Prétraitement des données\n",
    "custom_pipeline = [preprocessing.fillna,\n",
    "                   preprocessing.lowercase,\n",
    "                   preprocessing.remove_whitespace,\n",
    "                   preprocessing.remove_diacritics,\n",
    "                   preprocessing.remove_punctuation,\n",
    "                   preprocessing.remove_urls,\n",
    "                   preprocessing.remove_digits,\n",
    "                   preprocessing.remove_brackets,\n",
    "                   preprocessing.remove_angle_brackets,\n",
    "                   preprocessing.remove_curly_brackets,\n",
    "                   preprocessing.remove_square_brackets,\n",
    "                   preprocessing.remove_punctuation,\n",
    "                   preprocessing.remove_round_brackets,\n",
    "                   preprocessing.remove_html_tags,\n",
    "                   preprocessing.remove_whitespace,\n",
    "                   preprocessing.remove_stopwords]\n",
    "\n",
    "\n",
    "\n",
    "data['clean_text'] = hero.clean(data['Text'], pipeline=custom_pipeline)\n"
   ]
  },
  {
   "cell_type": "code",
   "execution_count": 50,
   "metadata": {},
   "outputs": [
    {
     "data": {
      "text/html": [
       "<div>\n",
       "<style scoped>\n",
       "    .dataframe tbody tr th:only-of-type {\n",
       "        vertical-align: middle;\n",
       "    }\n",
       "\n",
       "    .dataframe tbody tr th {\n",
       "        vertical-align: top;\n",
       "    }\n",
       "\n",
       "    .dataframe thead th {\n",
       "        text-align: right;\n",
       "    }\n",
       "</style>\n",
       "<table border=\"1\" class=\"dataframe\">\n",
       "  <thead>\n",
       "    <tr style=\"text-align: right;\">\n",
       "      <th></th>\n",
       "      <th>Text</th>\n",
       "      <th>Emotion</th>\n",
       "      <th>clean_text</th>\n",
       "    </tr>\n",
       "  </thead>\n",
       "  <tbody>\n",
       "    <tr>\n",
       "      <th>0</th>\n",
       "      <td>i didnt feel humiliated</td>\n",
       "      <td>sadness</td>\n",
       "      <td>didnt feel humiliated</td>\n",
       "    </tr>\n",
       "    <tr>\n",
       "      <th>1</th>\n",
       "      <td>i can go from feeling so hopeless to so damned...</td>\n",
       "      <td>sadness</td>\n",
       "      <td>go  feeling  hopeless   damned hopeful    ar...</td>\n",
       "    </tr>\n",
       "    <tr>\n",
       "      <th>2</th>\n",
       "      <td>im grabbing a minute to post i feel greedy wrong</td>\n",
       "      <td>anger</td>\n",
       "      <td>im grabbing  minute  post  feel greedy wrong</td>\n",
       "    </tr>\n",
       "    <tr>\n",
       "      <th>3</th>\n",
       "      <td>i am ever feeling nostalgic about the fireplac...</td>\n",
       "      <td>love</td>\n",
       "      <td>ever feeling nostalgic   fireplace   know   ...</td>\n",
       "    </tr>\n",
       "    <tr>\n",
       "      <th>4</th>\n",
       "      <td>i am feeling grouchy</td>\n",
       "      <td>anger</td>\n",
       "      <td>feeling grouchy</td>\n",
       "    </tr>\n",
       "    <tr>\n",
       "      <th>...</th>\n",
       "      <td>...</td>\n",
       "      <td>...</td>\n",
       "      <td>...</td>\n",
       "    </tr>\n",
       "    <tr>\n",
       "      <th>21454</th>\n",
       "      <td>Melissa stared at her friend in dism</td>\n",
       "      <td>fear</td>\n",
       "      <td>melissa stared   friend  dism</td>\n",
       "    </tr>\n",
       "    <tr>\n",
       "      <th>21455</th>\n",
       "      <td>Successive state elections have seen the gover...</td>\n",
       "      <td>fear</td>\n",
       "      <td>successive state elections  seen  governing pa...</td>\n",
       "    </tr>\n",
       "    <tr>\n",
       "      <th>21456</th>\n",
       "      <td>Vincent was irritated but not dismay</td>\n",
       "      <td>fear</td>\n",
       "      <td>vincent  irritated   dismay</td>\n",
       "    </tr>\n",
       "    <tr>\n",
       "      <th>21457</th>\n",
       "      <td>Kendall-Hume turned back to face the dismayed ...</td>\n",
       "      <td>fear</td>\n",
       "      <td>kendall hume turned back  face  dismayed coup</td>\n",
       "    </tr>\n",
       "    <tr>\n",
       "      <th>21458</th>\n",
       "      <td>I am dismayed , but not surpris</td>\n",
       "      <td>fear</td>\n",
       "      <td>dismayed   surpris</td>\n",
       "    </tr>\n",
       "  </tbody>\n",
       "</table>\n",
       "<p>21459 rows × 3 columns</p>\n",
       "</div>"
      ],
      "text/plain": [
       "                                                    Text  Emotion  \\\n",
       "0                                i didnt feel humiliated  sadness   \n",
       "1      i can go from feeling so hopeless to so damned...  sadness   \n",
       "2       im grabbing a minute to post i feel greedy wrong    anger   \n",
       "3      i am ever feeling nostalgic about the fireplac...     love   \n",
       "4                                   i am feeling grouchy    anger   \n",
       "...                                                  ...      ...   \n",
       "21454               Melissa stared at her friend in dism     fear   \n",
       "21455  Successive state elections have seen the gover...     fear   \n",
       "21456               Vincent was irritated but not dismay     fear   \n",
       "21457  Kendall-Hume turned back to face the dismayed ...     fear   \n",
       "21458                    I am dismayed , but not surpris     fear   \n",
       "\n",
       "                                              clean_text  \n",
       "0                                  didnt feel humiliated  \n",
       "1        go  feeling  hopeless   damned hopeful    ar...  \n",
       "2           im grabbing  minute  post  feel greedy wrong  \n",
       "3        ever feeling nostalgic   fireplace   know   ...  \n",
       "4                                        feeling grouchy  \n",
       "...                                                  ...  \n",
       "21454                      melissa stared   friend  dism  \n",
       "21455  successive state elections  seen  governing pa...  \n",
       "21456                        vincent  irritated   dismay  \n",
       "21457      kendall hume turned back  face  dismayed coup  \n",
       "21458                                 dismayed   surpris  \n",
       "\n",
       "[21459 rows x 3 columns]"
      ]
     },
     "execution_count": 50,
     "metadata": {},
     "output_type": "execute_result"
    }
   ],
   "source": [
    "data"
   ]
  },
  {
   "cell_type": "code",
   "execution_count": 51,
   "metadata": {},
   "outputs": [],
   "source": [
    "# import nltk\n",
    "# from nltk.corpus import stopwords\n",
    "\n",
    "# # Ajouter des stopwords manuellement\n",
    "# custom_stopwords = ['feeling', 'one', 'something', 'get','ive','back','day','know','time','way','thing','life']\n",
    "\n",
    "# # Charger la liste de stopwords par défaut de NLTK\n",
    "# nltk.download('stopwords')\n",
    "# stopwords_list = stopwords.words('english')\n",
    "\n",
    "# # Ajouter les stopwords personnalisés à la liste de stopwords\n",
    "# stopwords_list.extend(custom_stopwords)\n",
    "\n",
    "# # Utiliser la liste de stopwords mise à jour dans votre analyse de texte\n",
    "# filtered_words = [word for word in words if word not in stopwords_list]\n",
    "# filtered_words\n"
   ]
  },
  {
   "cell_type": "code",
   "execution_count": 52,
   "metadata": {},
   "outputs": [],
   "source": [
    "# Extraction des mots les plus courants pour chaque sentiment\n",
    "top_words_by_emotion = {}\n",
    "for emotion in data['Emotion'].unique():\n",
    "    mask = data['Emotion'] == emotion\n",
    "    text = data[mask]['clean_text']\n",
    "    words = ' '.join(text).split()\n",
    "    word_freq = FreqDist(words)\n",
    "    top_words = [word for word, freq in word_freq.most_common(30) if word not in stopwords.words('english')]\n",
    "    top_words_by_emotion[emotion] = top_words\n"
   ]
  },
  {
   "cell_type": "code",
   "execution_count": 53,
   "metadata": {},
   "outputs": [
    {
     "name": "stdout",
     "output_type": "stream",
     "text": [
      "Emotion: sadness\n",
      "['feel', 'feeling', 'like', 'im', 'really', 'know', 'get', 'would', 'time', 'little', 'ive', 'still', 'even', 'want', 'one', 'life', 'people', 'think', 'bit', 'things', 'much', 'dont', 'make', 'day', 'something', 'back', 'going', 'way', 'could', 'pretty']\n",
      "\n",
      "Emotion: anger\n",
      "['feel', 'feeling', 'like', 'im', 'really', 'get', 'people', 'know', 'time', 'little', 'want', 'even', 'would', 'angry', 'think', 'one', 'could', 'things', 'bit', 'way', 'offended', 'dont', 'resentful', 'cold', 'still', 'something', 'irritable', 'cant', 'going', 'bothered']\n",
      "\n",
      "Emotion: love\n",
      "['feel', 'feeling', 'like', 'im', 'love', 'really', 'know', 'sweet', 'loving', 'time', 'want', 'people', 'caring', 'passionate', 'one', 'sympathetic', 'life', 'liked', 'get', 'hot', 'little', 'feelings', 'tender', 'lovely', 'longing', 'loved', 'would', 'need', 'accepted', 'nostalgic']\n",
      "\n",
      "Emotion: surprise\n",
      "['feel', 'feeling', 'like', 'im', 'amazed', 'impressed', 'curious', 'overwhelmed', 'funny', 'surprised', 'weird', 'strange', 'amazing', 'really', 'little', 'shocked', 'still', 'time', 'stunned', 'dazed', 'bit', 'people', 'would', 'know', 'think', 'one', 'feels', 'much', 'could', 'life']\n",
      "\n",
      "Emotion: fear\n",
      "['feel', 'feeling', 'im', 'like', 'little', 'bit', 'know', 'really', 'anxious', 'time', 'still', 'people', 'one', 'nervous', 'get', 'want', 'would', 'strange', 'terrified', 'think', 'going', 'ive', 'afraid', 'agitated', 'scared', 'frightened', 'go', 'weird', 'things', 'even']\n",
      "\n",
      "Emotion: happy\n",
      "['feel', 'feeling', 'like', 'im', 'really', 'time', 'know', 'get', 'make', 'people', 'would', 'one', 'want', 'good', 'something', 'little', 'think', 'pretty', 'life', 'much', 'love', 'even', 'going', 'ive', 'happy', 'could', 'day', 'still', 'well', 'dont']\n",
      "\n"
     ]
    }
   ],
   "source": [
    "# Affichage des 30 mots les plus courants pour chaque sentiment\n",
    "for emotion, words in top_words_by_emotion.items():\n",
    "    print(f\"Emotion: {emotion}\")\n",
    "    print(words)\n",
    "    print()"
   ]
  },
  {
   "cell_type": "code",
   "execution_count": 63,
   "metadata": {},
   "outputs": [
    {
     "name": "stdout",
     "output_type": "stream",
     "text": [
      "Emotion: sadness\n",
      "{'back', 'day', 'really', 'could', 'something', 'way', 'pretty', 'want', 'still'}\n",
      "\n",
      "Emotion: anger\n",
      "{'cold', 'resentful', 'really', 'could', 'bothered', 'irritable', 'cant', 'way', 'something', 'offended', 'want', 'angry', 'still'}\n",
      "\n",
      "Emotion: love\n",
      "{'tender', 'longing', 'liked', 'accepted', 'need', 'nostalgic', 'love', 'loved', 'really', 'lovely', 'sympathetic', 'sweet', 'hot', 'passionate', 'caring', 'want', 'loving'}\n",
      "\n",
      "Emotion: surprise\n",
      "{'dazed', 'curious', 'surprised', 'funny', 'amazed', 'amazing', 'really', 'stunned', 'feel', 'could', 'weird', 'overwhelmed', 'strange', 'impressed', 'shocked', 'still'}\n",
      "\n",
      "Emotion: fear\n",
      "{'frightened', 'afraid', 'really', 'agitated', 'terrified', 'nervous', 'go', 'scared', 'weird', 'anxious', 'strange', 'want', 'still'}\n",
      "\n",
      "Emotion: happy\n",
      "{'love', 'day', 'really', 'could', 'happy', 'well', 'something', 'pretty', 'want', 'good', 'still'}\n",
      "\n"
     ]
    },
    {
     "name": "stderr",
     "output_type": "stream",
     "text": [
      "[nltk_data] Downloading package wordnet to\n",
      "[nltk_data]     /home/apprenant/nltk_data...\n",
      "[nltk_data]   Package wordnet is already up-to-date!\n"
     ]
    }
   ],
   "source": [
    "import nltk\n",
    "from nltk.stem import WordNetLemmatizer\n",
    "\n",
    "nltk.download('wordnet')\n",
    "\n",
    "# stopwords_list = ['feeling','feel','people','im','going', 'one', 'something', 'get','ive','back','day','know','time','way','thing','even','cant']\n",
    "stopwords_list = ['feel','feeling','feelings','like','im','ive','know','get','would','time','little','even','one','life','people','think','bit','things','much','dont','make','going']\n",
    "\n",
    "# Initialiser le lemmatiseur WordNet\n",
    "lemmatizer = WordNetLemmatizer()\n",
    "\n",
    "# Supprimer les mots qui se ressemblent et garder la racine\n",
    "for emotion, words in top_words_by_emotion.items():\n",
    "    print(f\"Emotion: {emotion}\")\n",
    "    lemmatized_words = [lemmatizer.lemmatize(word) for word in words if word not in stopwords_list]\n",
    "    unique_words = set(lemmatized_words)\n",
    "    print(unique_words)\n",
    "    print()\n"
   ]
  },
  {
   "cell_type": "code",
   "execution_count": 70,
   "metadata": {},
   "outputs": [
    {
     "data": {
      "text/plain": [
       "{'sadness': ['feel',\n",
       "  'feeling',\n",
       "  'like',\n",
       "  'im',\n",
       "  'really',\n",
       "  'know',\n",
       "  'get',\n",
       "  'would',\n",
       "  'time',\n",
       "  'little',\n",
       "  'ive',\n",
       "  'still',\n",
       "  'even',\n",
       "  'want',\n",
       "  'one',\n",
       "  'life',\n",
       "  'people',\n",
       "  'think',\n",
       "  'bit',\n",
       "  'things',\n",
       "  'much',\n",
       "  'dont',\n",
       "  'make',\n",
       "  'day',\n",
       "  'something',\n",
       "  'back',\n",
       "  'going',\n",
       "  'way',\n",
       "  'could',\n",
       "  'pretty'],\n",
       " 'anger': ['feel',\n",
       "  'feeling',\n",
       "  'like',\n",
       "  'im',\n",
       "  'really',\n",
       "  'get',\n",
       "  'people',\n",
       "  'know',\n",
       "  'time',\n",
       "  'little',\n",
       "  'want',\n",
       "  'even',\n",
       "  'would',\n",
       "  'angry',\n",
       "  'think',\n",
       "  'one',\n",
       "  'could',\n",
       "  'things',\n",
       "  'bit',\n",
       "  'way',\n",
       "  'offended',\n",
       "  'dont',\n",
       "  'resentful',\n",
       "  'cold',\n",
       "  'still',\n",
       "  'something',\n",
       "  'irritable',\n",
       "  'cant',\n",
       "  'going',\n",
       "  'bothered'],\n",
       " 'love': ['feel',\n",
       "  'feeling',\n",
       "  'like',\n",
       "  'im',\n",
       "  'love',\n",
       "  'really',\n",
       "  'know',\n",
       "  'sweet',\n",
       "  'loving',\n",
       "  'time',\n",
       "  'want',\n",
       "  'people',\n",
       "  'caring',\n",
       "  'passionate',\n",
       "  'one',\n",
       "  'sympathetic',\n",
       "  'life',\n",
       "  'liked',\n",
       "  'get',\n",
       "  'hot',\n",
       "  'little',\n",
       "  'feelings',\n",
       "  'tender',\n",
       "  'lovely',\n",
       "  'longing',\n",
       "  'loved',\n",
       "  'would',\n",
       "  'need',\n",
       "  'accepted',\n",
       "  'nostalgic'],\n",
       " 'surprise': ['feel',\n",
       "  'feeling',\n",
       "  'like',\n",
       "  'im',\n",
       "  'amazed',\n",
       "  'impressed',\n",
       "  'curious',\n",
       "  'overwhelmed',\n",
       "  'funny',\n",
       "  'surprised',\n",
       "  'weird',\n",
       "  'strange',\n",
       "  'amazing',\n",
       "  'really',\n",
       "  'little',\n",
       "  'shocked',\n",
       "  'still',\n",
       "  'time',\n",
       "  'stunned',\n",
       "  'dazed',\n",
       "  'bit',\n",
       "  'people',\n",
       "  'would',\n",
       "  'know',\n",
       "  'think',\n",
       "  'one',\n",
       "  'feels',\n",
       "  'much',\n",
       "  'could',\n",
       "  'life'],\n",
       " 'fear': ['feel',\n",
       "  'feeling',\n",
       "  'im',\n",
       "  'like',\n",
       "  'little',\n",
       "  'bit',\n",
       "  'know',\n",
       "  'really',\n",
       "  'anxious',\n",
       "  'time',\n",
       "  'still',\n",
       "  'people',\n",
       "  'one',\n",
       "  'nervous',\n",
       "  'get',\n",
       "  'want',\n",
       "  'would',\n",
       "  'strange',\n",
       "  'terrified',\n",
       "  'think',\n",
       "  'going',\n",
       "  'ive',\n",
       "  'afraid',\n",
       "  'agitated',\n",
       "  'scared',\n",
       "  'frightened',\n",
       "  'go',\n",
       "  'weird',\n",
       "  'things',\n",
       "  'even'],\n",
       " 'happy': ['feel',\n",
       "  'feeling',\n",
       "  'like',\n",
       "  'im',\n",
       "  'really',\n",
       "  'time',\n",
       "  'know',\n",
       "  'get',\n",
       "  'make',\n",
       "  'people',\n",
       "  'would',\n",
       "  'one',\n",
       "  'want',\n",
       "  'good',\n",
       "  'something',\n",
       "  'little',\n",
       "  'think',\n",
       "  'pretty',\n",
       "  'life',\n",
       "  'much',\n",
       "  'love',\n",
       "  'even',\n",
       "  'going',\n",
       "  'ive',\n",
       "  'happy',\n",
       "  'could',\n",
       "  'day',\n",
       "  'still',\n",
       "  'well',\n",
       "  'dont']}"
      ]
     },
     "execution_count": 70,
     "metadata": {},
     "output_type": "execute_result"
    }
   ],
   "source": [
    "top_words_by_emotion\n"
   ]
  },
  {
   "cell_type": "code",
   "execution_count": 56,
   "metadata": {},
   "outputs": [],
   "source": [
    "# all_words = ' '.join(top).split()\n",
    "# len(all_words)"
   ]
  },
  {
   "cell_type": "code",
   "execution_count": 65,
   "metadata": {},
   "outputs": [
    {
     "data": {
      "image/png": "[encoded data removed]",
      "text/plain": [
       "<Figure size 640x480 with 1 Axes>"
      ]
     },
     "metadata": {},
     "output_type": "display_data"
    }
   ],
   "source": [
    "plt.hist(unique_words, bins=50)\n",
    "plt.xlabel('Words')\n",
    "plt.ylabel('Frequency')\n",
    "plt.title('Histogram of Words')\n",
    "plt.show()\n"
   ]
  },
  {
   "cell_type": "code",
   "execution_count": 58,
   "metadata": {},
   "outputs": [
    {
     "data": {
      "image/png": "[encoded data removed]",
      "text/plain": [
       "<Figure size 800x600 with 2 Axes>"
      ]
     },
     "metadata": {},
     "output_type": "display_data"
    }
   ],
   "source": [
    "import numpy as np\n",
    "import matplotlib.pyplot as plt\n",
    "\n",
    "# Créer une matrice vide pour stocker la proximité entre les sentiments\n",
    "proximity_matrix = np.zeros((len(top_words_by_emotion), len(top_words_by_emotion)))\n",
    "\n",
    "# Calculer la proximité entre les sentiments\n",
    "for i, (emotion1, top_words1) in enumerate(top_words_by_emotion.items()):\n",
    "    for j, (emotion2, top_words2) in enumerate(top_words_by_emotion.items()):\n",
    "        # Calculer le nombre de mots en commun entre les deux sentiments\n",
    "        common_words = set(top_words1) & set(top_words2)\n",
    "        \n",
    "        # Stocker la proximité normalisée entre les sentiments dans la matrice\n",
    "        proximity_matrix[i, j] = len(common_words) / len(set(top_words1) | set(top_words2))\n",
    "        # Remark : En divisant le nombre de mots en commun par le nombre total de mots distincts, nous obtenons une valeur de proximité normalisée entre 0 et 1. \n",
    "        # Plus cette valeur est proche de 1, plus les sentiments sont similaires en termes de mots les plus courants.\n",
    "\n",
    "# Afficher la matrice de proximité sous forme de heatmap\n",
    "plt.figure(figsize=(8, 6))\n",
    "plt.imshow(proximity_matrix, cmap='viridis')\n",
    "plt.xticks(np.arange(len(top_words_by_emotion)), top_words_by_emotion.keys(), rotation=45)\n",
    "plt.yticks(np.arange(len(top_words_by_emotion)), top_words_by_emotion.keys())\n",
    "plt.colorbar(label='Proximité')\n",
    "plt.title('Matrice de proximité entre les sentiments')\n",
    "plt.show()"
   ]
  },
  {
   "cell_type": "code",
   "execution_count": 59,
   "metadata": {},
   "outputs": [
    {
     "name": "stderr",
     "output_type": "stream",
     "text": [
      "/home/apprenant/miniconda3/envs/nlp_env/lib/python3.8/site-packages/sklearn/linear_model/_logistic.py:460: ConvergenceWarning: lbfgs failed to converge (status=1):\n",
      "STOP: TOTAL NO. of ITERATIONS REACHED LIMIT.\n",
      "\n",
      "Increase the number of iterations (max_iter) or scale the data as shown in:\n",
      "    https://scikit-learn.org/stable/modules/preprocessing.html\n",
      "Please also refer to the documentation for alternative solver options:\n",
      "    https://scikit-learn.org/stable/modules/linear_model.html#logistic-regression\n",
      "  n_iter_i = _check_optimize_result(\n"
     ]
    },
    {
     "name": "stdout",
     "output_type": "stream",
     "text": [
      "Rapport de classification pour le modèle BoW :\n",
      "              precision    recall  f1-score   support\n",
      "\n",
      "       anger       0.91      0.86      0.88       617\n",
      "        fear       0.87      0.85      0.86       531\n",
      "       happy       0.91      0.94      0.92      1381\n",
      "        love       0.82      0.78      0.80       318\n",
      "     sadness       0.92      0.94      0.93      1277\n",
      "    surprise       0.78      0.72      0.75       168\n",
      "\n",
      "    accuracy                           0.89      4292\n",
      "   macro avg       0.87      0.85      0.86      4292\n",
      "weighted avg       0.89      0.89      0.89      4292\n",
      "\n",
      "\n",
      "Rapport de classification pour le modèle TF-IDF :\n",
      "              precision    recall  f1-score   support\n",
      "\n",
      "       anger       0.92      0.80      0.86       617\n",
      "        fear       0.87      0.79      0.83       531\n",
      "       happy       0.85      0.96      0.90      1381\n",
      "        love       0.90      0.66      0.76       318\n",
      "     sadness       0.89      0.95      0.92      1277\n",
      "    surprise       0.86      0.55      0.67       168\n",
      "\n",
      "    accuracy                           0.88      4292\n",
      "   macro avg       0.88      0.79      0.82      4292\n",
      "weighted avg       0.88      0.88      0.87      4292\n",
      "\n"
     ]
    },
    {
     "name": "stderr",
     "output_type": "stream",
     "text": [
      "/home/apprenant/miniconda3/envs/nlp_env/lib/python3.8/site-packages/sklearn/linear_model/_logistic.py:460: ConvergenceWarning: lbfgs failed to converge (status=1):\n",
      "STOP: TOTAL NO. of ITERATIONS REACHED LIMIT.\n",
      "\n",
      "Increase the number of iterations (max_iter) or scale the data as shown in:\n",
      "    https://scikit-learn.org/stable/modules/preprocessing.html\n",
      "Please also refer to the documentation for alternative solver options:\n",
      "    https://scikit-learn.org/stable/modules/linear_model.html#logistic-regression\n",
      "  n_iter_i = _check_optimize_result(\n"
     ]
    }
   ],
   "source": [
    "from sklearn.feature_extraction.text import CountVectorizer, TfidfVectorizer\n",
    "from sklearn.model_selection import train_test_split\n",
    "from sklearn.linear_model import LogisticRegression\n",
    "from sklearn.metrics import classification_report\n",
    "\n",
    "# Diviser les données en ensembles d'entraînement et de test\n",
    "X_train, X_test, y_train, y_test = train_test_split(data['clean_text'], data['Emotion'], test_size=0.2, random_state=42)\n",
    "\n",
    "# Créer le modèle Bag of Words (BoW)\n",
    "bow_vectorizer = CountVectorizer()\n",
    "X_train_bow = bow_vectorizer.fit_transform(X_train)\n",
    "X_test_bow = bow_vectorizer.transform(X_test)\n",
    "\n",
    "# Entraîner et évaluer le modèle BoW avec une régression logistique\n",
    "bow_model = LogisticRegression()\n",
    "bow_model.fit(X_train_bow, y_train)\n",
    "bow_predictions = bow_model.predict(X_test_bow)\n",
    "\n",
    "print(\"Rapport de classification pour le modèle BoW :\")\n",
    "print(classification_report(y_test, bow_predictions))\n",
    "print()\n",
    "\n",
    "# Créer le modèle TF-IDF\n",
    "tfidf_vectorizer = TfidfVectorizer()\n",
    "X_train_tfidf = tfidf_vectorizer.fit_transform(X_train)\n",
    "X_test_tfidf = tfidf_vectorizer.transform(X_test)\n",
    "\n",
    "# Entraîner et évaluer le modèle TF-IDF avec une régression logistique\n",
    "tfidf_model = LogisticRegression()\n",
    "tfidf_model.fit(X_train_tfidf, y_train)\n",
    "tfidf_predictions = tfidf_model.predict(X_test_tfidf)\n",
    "\n",
    "print(\"Rapport de classification pour le modèle TF-IDF :\")\n",
    "print(classification_report(y_test, tfidf_predictions))\n"
   ]
  }
 ],
 "metadata": {
  "kernelspec": {
   "display_name": "machine_learning",
   "language": "python",
   "name": "python3"
  },
  "language_info": {
   "codemirror_mode": {
    "name": "ipython",
    "version": 3
   },
   "file_extension": ".py",
   "mimetype": "text/x-python",
   "name": "python",
   "nbconvert_exporter": "python",
   "pygments_lexer": "ipython3",
   "version": "3.8.16"
  },
  "orig_nbformat": 4
 },
 "nbformat": 4,
 "nbformat_minor": 2
}
