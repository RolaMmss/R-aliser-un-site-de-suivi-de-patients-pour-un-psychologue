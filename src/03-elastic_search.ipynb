{
 "cells": [
  {
   "attachments": {},
   "cell_type": "markdown",
   "metadata": {},
   "source": [
    "#### Utiliser la bibliothèque Faker pour générer des données fictives et les indexe dans Elasticsearch, un moteur de recherche et d'analyse de données."
   ]
  },
  {
   "cell_type": "code",
   "execution_count": 18,
   "metadata": {},
   "outputs": [],
   "source": [
    "import pickle\n",
    "import pandas as pd\n",
    "from faker import Faker         # un module qui permet de générer des données fictives         \n",
    "from elasticsearch import Elasticsearch         # un module qui permet d'interagir avec Elasticsearch depuis Python\n",
    "from Modeling import X_test,y_pred,confidence\n"
   ]
  },
  {
   "cell_type": "code",
   "execution_count": 19,
   "metadata": {},
   "outputs": [],
   "source": [
    "with open('nlp_pipeline.pkl', 'rb') as file:\n",
    "    nlp_pipeline = pickle.load(file)\n"
   ]
  },
  {
   "cell_type": "code",
   "execution_count": 20,
   "metadata": {},
   "outputs": [],
   "source": [
    "data_clean= pd.read_csv(\"../data/clean_data.csv\")\n"
   ]
  },
  {
   "cell_type": "code",
   "execution_count": 21,
   "metadata": {},
   "outputs": [
    {
     "name": "stderr",
     "output_type": "stream",
     "text": [
      "/tmp/ipykernel_51770/3443868715.py:16: DeprecationWarning: The 'body' parameter is deprecated and will be removed in a future version. Instead use the 'document' parameter. See https://github.com/elastic/elasticsearch-py/issues/1698 for more information\n",
      "  es.index(index=\"notes2\", body=document)\n",
      "/tmp/ipykernel_51770/3443868715.py:16: ElasticsearchWarning: Elasticsearch built-in security features are not enabled. Without authentication, your cluster could be accessible to anyone. See https://www.elastic.co/guide/en/elasticsearch/reference/7.17/security-minimal-setup.html to enable security.\n",
      "  es.index(index=\"notes2\", body=document)\n",
      "/tmp/ipykernel_51770/3443868715.py:27: DeprecationWarning: The 'body' parameter is deprecated and will be removed in a future version. Instead use individual parameters.\n",
      "  search_results = es.search(index=\"notes2\", body=search_query)\n"
     ]
    },
    {
     "name": "stdout",
     "output_type": "stream",
     "text": [
      "Emotion: happy, Confidence: 0.5231996847165503\n",
      "Emotion: happy, Confidence: 0.40182865877104257\n",
      "Emotion: happy, Confidence: 0.7655663911347499\n",
      "Emotion: happy, Confidence: 0.8459004268701387\n",
      "Emotion: happy, Confidence: 0.2605887059263876\n",
      "Emotion: happy, Confidence: 0.628869479265879\n",
      "Emotion: happy, Confidence: 0.38405614990812686\n",
      "Emotion: happy, Confidence: 0.6658740506816098\n",
      "Emotion: happy, Confidence: 0.6187301126987258\n",
      "Emotion: happy, Confidence: 0.8776179283899053\n"
     ]
    },
    {
     "name": "stderr",
     "output_type": "stream",
     "text": [
      "/tmp/ipykernel_51770/3443868715.py:27: ElasticsearchWarning: Elasticsearch built-in security features are not enabled. Without authentication, your cluster could be accessible to anyone. See https://www.elastic.co/guide/en/elasticsearch/reference/7.17/security-minimal-setup.html to enable security.\n",
      "  search_results = es.search(index=\"notes2\", body=search_query)\n"
     ]
    }
   ],
   "source": [
    "# Connexion à Elasticsearch\n",
    "es = Elasticsearch([{'host': 'localhost', 'port':9200, 'scheme':'http'}])\n",
    "\n",
    "# Alimentation de l'index \"notes\" avec les données factices et les prédictions\n",
    "fake = Faker()\n",
    "for i, emotion, conf in zip(range(len(X_test)), y_pred, confidence):\n",
    "    document = {\n",
    "        \"patient_lastname\": fake.last_name(),\n",
    "        \"patient_firstname\": fake.first_name(),\n",
    "        \"text\": data_clean['clean_text'][i],\n",
    "        \"date\": fake.date_this_decade(),\n",
    "        \"patient_left\": fake.boolean(),\n",
    "        \"emotion\": y_pred[i],\n",
    "        \"confidence\": confidence[i]\n",
    "    }\n",
    "    es.index(index=\"notes2\", body=document)\n",
    "\n",
    "# Vérification des résultats\n",
    "search_query = {\n",
    "    \"query\": {\n",
    "        \"match\": {\n",
    "            \"emotion\": \"happy\"  # Émotion à rechercher\n",
    "        }\n",
    "    }\n",
    "}\n",
    "\n",
    "search_results = es.search(index=\"notes2\", body=search_query)\n",
    "for hit in search_results[\"hits\"][\"hits\"]:\n",
    "    print(f\"Emotion: {hit['_source']['emotion']}, Confidence: {hit['_source']['confidence']}\")\n"
   ]
  },
  {
   "cell_type": "code",
   "execution_count": 22,
   "metadata": {},
   "outputs": [
    {
     "name": "stdout",
     "output_type": "stream",
     "text": [
      "Emotion: anger, Confidence: 0.7260893017467942\n",
      "Emotion: anger, Confidence: 0.6494661737200706\n",
      "Emotion: anger, Confidence: 0.2971605954865059\n",
      "Emotion: anger, Confidence: 0.43314433347176295\n",
      "Emotion: anger, Confidence: 0.7260059944532392\n",
      "Emotion: anger, Confidence: 0.8842673167022596\n",
      "Emotion: anger, Confidence: 0.7763694867826741\n",
      "Emotion: anger, Confidence: 0.5502009007821632\n",
      "Emotion: anger, Confidence: 0.37805145457176514\n",
      "Emotion: anger, Confidence: 0.5995251239224669\n"
     ]
    },
    {
     "name": "stderr",
     "output_type": "stream",
     "text": [
      "/tmp/ipykernel_51770/35963937.py:10: DeprecationWarning: The 'body' parameter is deprecated and will be removed in a future version. Instead use individual parameters.\n",
      "  search_results = es.search(index=\"notes2\", body=search_query)\n",
      "/tmp/ipykernel_51770/35963937.py:10: ElasticsearchWarning: Elasticsearch built-in security features are not enabled. Without authentication, your cluster could be accessible to anyone. See https://www.elastic.co/guide/en/elasticsearch/reference/7.17/security-minimal-setup.html to enable security.\n",
      "  search_results = es.search(index=\"notes2\", body=search_query)\n"
     ]
    }
   ],
   "source": [
    "# Vérification des résultats\n",
    "search_query = {\n",
    "    \"query\": {\n",
    "        \"match\": {\n",
    "            \"emotion\": \"anger\"  # Émotion à rechercher\n",
    "        }\n",
    "    }\n",
    "}\n",
    "\n",
    "search_results = es.search(index=\"notes2\", body=search_query)\n",
    "for hit in search_results[\"hits\"][\"hits\"]:\n",
    "    print(f\"Emotion: {hit['_source']['emotion']}, Confidence: {hit['_source']['confidence']}\")\n"
   ]
  },
  {
   "cell_type": "code",
   "execution_count": 23,
   "metadata": {},
   "outputs": [
    {
     "name": "stdout",
     "output_type": "stream",
     "text": [
      "ID du document : 9KaDJYkBSFhSL_GYx5PX\n",
      "Données du document : {'patient_lastname': 'Pittman', 'patient_firstname': 'Christopher', 'text': 'i didnt feel humiliated', 'date': '2020-08-12', 'patient_left': True, 'emotion': 'happy', 'confidence': 0.5231996847165503}\n",
      "--------------------\n",
      "ID du document : 9aaDJYkBSFhSL_GYx5P5\n",
      "Données du document : {'patient_lastname': 'Burton', 'patient_firstname': 'Michael', 'text': 'i can go from feeling so hopeless to so damned hopeful just from being around someone who cares and is awake', 'date': '2022-03-15', 'patient_left': True, 'emotion': 'anger', 'confidence': 0.7260893017467942}\n",
      "--------------------\n",
      "ID du document : 9qaDJYkBSFhSL_GYyJMW\n",
      "Données du document : {'patient_lastname': 'Olson', 'patient_firstname': 'Eric', 'text': 'im grabbing a minute to post i feel greedy wrong', 'date': '2022-03-02', 'patient_left': True, 'emotion': 'sadness', 'confidence': 0.4477749266394086}\n",
      "--------------------\n",
      "ID du document : 96aDJYkBSFhSL_GYyJM1\n",
      "Données du document : {'patient_lastname': 'Rivera', 'patient_firstname': 'Timothy', 'text': 'i am ever feeling nostalgic about the fireplace i will know that it is still on the property', 'date': '2021-12-31', 'patient_left': False, 'emotion': 'sadness', 'confidence': 0.9343065421031457}\n",
      "--------------------\n",
      "ID du document : -KaDJYkBSFhSL_GYyJNX\n",
      "Données du document : {'patient_lastname': 'Scott', 'patient_firstname': 'Daniel', 'text': 'i am feeling grouchy', 'date': '2021-03-27', 'patient_left': False, 'emotion': 'happy', 'confidence': 0.40182865877104257}\n",
      "--------------------\n",
      "ID du document : -aaDJYkBSFhSL_GYyJN3\n",
      "Données du document : {'patient_lastname': 'Adams', 'patient_firstname': 'Samuel', 'text': 'ive been feeling a little burdened lately wasnt sure why that was', 'date': '2021-07-12', 'patient_left': True, 'emotion': 'anger', 'confidence': 0.6494661737200706}\n",
      "--------------------\n",
      "ID du document : -qaDJYkBSFhSL_GYyJOX\n",
      "Données du document : {'patient_lastname': 'Evans', 'patient_firstname': 'Alexis', 'text': 'ive been taking or milligrams or times recommended amount and ive fallen asleep a lot faster but i also feel like so funny', 'date': '2020-11-15', 'patient_left': True, 'emotion': 'sadness', 'confidence': 0.9272379312047787}\n",
      "--------------------\n",
      "ID du document : -6aDJYkBSFhSL_GYyJPa\n",
      "Données du document : {'patient_lastname': 'Hernandez', 'patient_firstname': 'Michael', 'text': 'i feel as confused about life as a teenager or as jaded as a year old man', 'date': '2022-03-18', 'patient_left': False, 'emotion': 'happy', 'confidence': 0.7655663911347499}\n",
      "--------------------\n",
      "ID du document : _KaDJYkBSFhSL_GYyJP-\n",
      "Données du document : {'patient_lastname': 'Smith', 'patient_firstname': 'Adam', 'text': 'i have been with petronas for years i feel that petronas has performed well and made a huge profit', 'date': '2021-10-22', 'patient_left': False, 'emotion': 'anger', 'confidence': 0.2971605954865059}\n",
      "--------------------\n",
      "ID du document : _aaDJYkBSFhSL_GYyZMp\n",
      "Données du document : {'patient_lastname': 'Rose', 'patient_firstname': 'Jade', 'text': 'i feel romantic too', 'date': '2020-08-04', 'patient_left': True, 'emotion': 'sadness', 'confidence': 0.9039578966973696}\n",
      "--------------------\n"
     ]
    },
    {
     "name": "stderr",
     "output_type": "stream",
     "text": [
      "/tmp/ipykernel_51770/2109587630.py:2: DeprecationWarning: The 'body' parameter is deprecated and will be removed in a future version. Instead use individual parameters.\n",
      "  response = es.search(index=\"notes2\", body={\"query\": {\"match_all\": {}}})      # envoie une requête pour récupérer des informations sur Elasticsearch.\n",
      "/tmp/ipykernel_51770/2109587630.py:2: ElasticsearchWarning: Elasticsearch built-in security features are not enabled. Without authentication, your cluster could be accessible to anyone. See https://www.elastic.co/guide/en/elasticsearch/reference/7.17/security-minimal-setup.html to enable security.\n",
      "  response = es.search(index=\"notes2\", body={\"query\": {\"match_all\": {}}})      # envoie une requête pour récupérer des informations sur Elasticsearch.\n"
     ]
    }
   ],
   "source": [
    "# Rechercher tous les documents dans l'index \"notes\"\n",
    "response = es.search(index=\"notes2\", body={\"query\": {\"match_all\": {}}})      # envoie une requête pour récupérer des informations sur Elasticsearch. \n",
    "# La réponse contient les documents correspondants. Les documents sont extraits en accédant à response['hits']['hits'].\n",
    "\n",
    "\n",
    "# Récupérer les documents à partir de la réponse\n",
    "documents = response['hits']['hits']\n",
    "\n",
    "# Parcourir les documents et afficher leurs données\n",
    "for doc in documents:\n",
    "    print(\"ID du document :\", doc['_id'])     # L'ID du document est accessible via doc['_id'].\n",
    "    print(\"Données du document :\", doc['_source'])      # Les données du document sont accessibles via doc['_source'].\n",
    "    print(\"--------------------\")\n"
   ]
  },
  {
   "cell_type": "code",
   "execution_count": 24,
   "metadata": {},
   "outputs": [
    {
     "name": "stdout",
     "output_type": "stream",
     "text": [
      "Series([], Name: count, dtype: int64)\n"
     ]
    },
    {
     "name": "stderr",
     "output_type": "stream",
     "text": [
      "/tmp/ipykernel_51770/230937345.py:24: DeprecationWarning: The 'body' parameter is deprecated and will be removed in a future version. Instead use individual parameters.\n",
      "  response = es.search(index=\"notes2\", body=query)\n",
      "/tmp/ipykernel_51770/230937345.py:24: ElasticsearchWarning: Elasticsearch built-in security features are not enabled. Without authentication, your cluster could be accessible to anyone. See https://www.elastic.co/guide/en/elasticsearch/reference/7.17/security-minimal-setup.html to enable security.\n",
      "  response = es.search(index=\"notes2\", body=query)\n"
     ]
    }
   ],
   "source": [
    "from elasticsearch import Elasticsearch\n",
    "import pandas as pd\n",
    "\n",
    "# Instancier le client Elasticsearch\n",
    "es = Elasticsearch([{'host': 'localhost', 'port':9200, 'scheme':'http'}])\n",
    "\n",
    "# Patient spécifique\n",
    "patient_lastname = \"Davies\"\n",
    "patient_firstname = \"Charles\"\n",
    "\n",
    "# Requête Elasticsearch pour récupérer les documents du patient spécifique\n",
    "query = {\n",
    "    \"query\": {\n",
    "        \"bool\": {\n",
    "            \"must\": [\n",
    "                {\"match\": {\"patient_lastname\": patient_lastname}},\n",
    "                {\"match\": {\"patient_firstname\": patient_firstname}}\n",
    "            ]\n",
    "        }\n",
    "    }\n",
    "}\n",
    "\n",
    "# Effectuer la recherche dans Elasticsearch\n",
    "response = es.search(index=\"notes2\", body=query)\n",
    "\n",
    "# Récupérer les documents correspondants\n",
    "documents = response['hits']['hits']\n",
    "\n",
    "# Liste pour stocker les sentiments\n",
    "sentiments = []\n",
    "\n",
    "# Parcourir les documents et extraire les sentiments\n",
    "for doc in documents:\n",
    "    sentiment = doc['_source']['emotion']\n",
    "    sentiments.append(sentiment)\n",
    "\n",
    "# Créer un DataFrame à partir de la liste de sentiments\n",
    "df = pd.DataFrame(sentiments, columns=[\"Sentiment\"])\n",
    "\n",
    "# Effectuer l'agrégation et le comptage des sentiments\n",
    "sentiment_counts = df['Sentiment'].value_counts()\n",
    "\n",
    "# Afficher la répartition des sentiments\n",
    "print(sentiment_counts)"
   ]
  },
  {
   "cell_type": "code",
   "execution_count": 25,
   "metadata": {},
   "outputs": [
    {
     "name": "stdout",
     "output_type": "stream",
     "text": [
      "Series([], Name: count, dtype: int64)\n"
     ]
    },
    {
     "name": "stderr",
     "output_type": "stream",
     "text": [
      "/tmp/ipykernel_51770/3010663931.py:24: DeprecationWarning: The 'body' parameter is deprecated and will be removed in a future version. Instead use individual parameters.\n",
      "  response = es.search(index=\"notes2\", body=query)\n",
      "/tmp/ipykernel_51770/3010663931.py:24: ElasticsearchWarning: Elasticsearch built-in security features are not enabled. Without authentication, your cluster could be accessible to anyone. See https://www.elastic.co/guide/en/elasticsearch/reference/7.17/security-minimal-setup.html to enable security.\n",
      "  response = es.search(index=\"notes2\", body=query)\n"
     ]
    }
   ],
   "source": [
    "from elasticsearch import Elasticsearch\n",
    "import pandas as pd\n",
    "\n",
    "# Instancier le client Elasticsearch\n",
    "es = Elasticsearch([{'host': 'localhost', 'port':9200, 'scheme':'http'}])\n",
    "\n",
    "# Patient spécifique\n",
    "patient_lastname = \"Christensen\"\n",
    "patient_firstname = \"Anthony\"\n",
    "\n",
    "# Requête Elasticsearch pour récupérer les documents du patient spécifique\n",
    "query = {\n",
    "    \"query\": {\n",
    "        \"bool\": {\n",
    "            \"must\": [\n",
    "                {\"match\": {\"patient_lastname\": patient_lastname}},\n",
    "                {\"match\": {\"patient_firstname\": patient_firstname}}\n",
    "            ]\n",
    "        }\n",
    "    }\n",
    "}\n",
    "\n",
    "# Effectuer la recherche dans Elasticsearch\n",
    "response = es.search(index=\"notes2\", body=query)\n",
    "\n",
    "# Récupérer les documents correspondants\n",
    "documents = response['hits']['hits']\n",
    "\n",
    "# Liste pour stocker les sentiments\n",
    "sentiments = []\n",
    "\n",
    "# Parcourir les documents et extraire les sentiments\n",
    "for doc in documents:\n",
    "    sentiment = doc['_source']['emotion']\n",
    "    sentiments.append(sentiment)\n",
    "\n",
    "# Créer un DataFrame à partir de la liste de sentiments\n",
    "df = pd.DataFrame(sentiments, columns=[\"Sentiment\"])\n",
    "\n",
    "# Effectuer l'agrégation et le comptage des sentiments\n",
    "sentiment_counts = df['Sentiment'].value_counts()\n",
    "\n",
    "# Afficher la répartition des sentiments\n",
    "print(sentiment_counts)"
   ]
  },
  {
   "cell_type": "code",
   "execution_count": 26,
   "metadata": {},
   "outputs": [
    {
     "name": "stderr",
     "output_type": "stream",
     "text": [
      "/tmp/ipykernel_51770/495325489.py:25: DeprecationWarning: The 'body' parameter is deprecated and will be removed in a future version. Instead use individual parameters.\n",
      "  search_results = es.search(index=\"notes2\", body=search_query)\n",
      "/tmp/ipykernel_51770/495325489.py:25: ElasticsearchWarning: Elasticsearch built-in security features are not enabled. Without authentication, your cluster could be accessible to anyone. See https://www.elastic.co/guide/en/elasticsearch/reference/7.17/security-minimal-setup.html to enable security.\n",
      "  search_results = es.search(index=\"notes2\", body=search_query)\n"
     ]
    },
    {
     "data": {
      "image/png": "[encoded data removed]",
      "text/plain": [
       "<Figure size 640x480 with 2 Axes>"
      ]
     },
     "metadata": {},
     "output_type": "display_data"
    }
   ],
   "source": [
    "import pandas as pd\n",
    "import seaborn as sns\n",
    "import matplotlib.pyplot as plt\n",
    "\n",
    "# Liste des sentiments\n",
    "sentiments = ['happy', 'sadness', 'fear', 'love', 'surprise', 'anger']  # Ajoutez tous les sentiments que vous souhaitez inclure\n",
    "\n",
    "# Initialisation de la matrice\n",
    "matrix = []\n",
    "\n",
    "# Recherche du pourcentage de chaque sentiment contenant certains mots\n",
    "for sentiment in sentiments:\n",
    "    percentages = []\n",
    "    for word in['happy', 'sadness', 'fear', 'love', 'surprise', 'anger']:  # Ajoutez tous les mots que vous souhaitez rechercher\n",
    "        search_query = {\n",
    "            \"query\": {\n",
    "                \"bool\": {\n",
    "                    \"must\": [\n",
    "                        {\"match\": {\"emotion\": sentiment}},\n",
    "                        {\"match\": {\"text\": word}}\n",
    "                    ]\n",
    "                }\n",
    "            }\n",
    "        }\n",
    "        search_results = es.search(index=\"notes2\", body=search_query)\n",
    "        total_count = search_results[\"hits\"][\"total\"][\"value\"]\n",
    "        match_count = len(search_results[\"hits\"][\"hits\"])\n",
    "\n",
    "        # Vérification pour éviter la division par zéro\n",
    "        percentage = 0\n",
    "        if total_count != 0:\n",
    "            percentage = match_count / total_count * 100\n",
    "\n",
    "        percentages.append(percentage)\n",
    "    \n",
    "    matrix.append(percentages)\n",
    "\n",
    "# Création de la HeatMap\n",
    "heatmap_df = pd.DataFrame(matrix, columns=['happy', 'sadness', 'fear', 'love', 'surprise', 'anger'], index=sentiments)\n",
    "sns.heatmap(heatmap_df, annot=True, cmap=\"YlGnBu\")\n",
    "plt.xlabel(\"Mots\")\n",
    "plt.ylabel(\"Sentiments\")\n",
    "plt.title(\"Pourcentage de mots dans chaque sentiment\")\n",
    "plt.show()\n"
   ]
  },
  {
   "cell_type": "code",
   "execution_count": 27,
   "metadata": {},
   "outputs": [
    {
     "name": "stderr",
     "output_type": "stream",
     "text": [
      "/tmp/ipykernel_51770/792079254.py:13: DeprecationWarning: The 'body' parameter is deprecated and will be removed in a future version. Instead use individual parameters.\n",
      "  full_text_results = es.search(index=\"notes2\", body=full_text_query)\n",
      "/tmp/ipykernel_51770/792079254.py:13: ElasticsearchWarning: Elasticsearch built-in security features are not enabled. Without authentication, your cluster could be accessible to anyone. See https://www.elastic.co/guide/en/elasticsearch/reference/7.17/security-minimal-setup.html to enable security.\n",
      "  full_text_results = es.search(index=\"notes2\", body=full_text_query)\n",
      "/tmp/ipykernel_51770/792079254.py:27: DeprecationWarning: The 'body' parameter is deprecated and will be removed in a future version. Instead use individual parameters.\n",
      "  fuzzy_results = es.search(index=\"notes2\", body=fuzzy_query)\n",
      "/tmp/ipykernel_51770/792079254.py:27: ElasticsearchWarning: Elasticsearch built-in security features are not enabled. Without authentication, your cluster could be accessible to anyone. See https://www.elastic.co/guide/en/elasticsearch/reference/7.17/security-minimal-setup.html to enable security.\n",
      "  fuzzy_results = es.search(index=\"notes2\", body=fuzzy_query)\n"
     ]
    },
    {
     "name": "stdout",
     "output_type": "stream",
     "text": [
      "Stage: denial, Full Text Count: 5, Fuzzy Count: 125\n",
      "Stage: anger, Full Text Count: 40, Fuzzy Count: 65\n",
      "Stage: bargaining, Full Text Count: 0, Fuzzy Count: 0\n",
      "Stage: depression, Full Text Count: 20, Fuzzy Count: 45\n",
      "Stage: acceptance, Full Text Count: 15, Fuzzy Count: 86\n"
     ]
    }
   ],
   "source": [
    "stages_of_grief = ['denial', 'anger', 'bargaining', 'depression', 'acceptance']\n",
    "\n",
    "# Recherche du nombre de textes correspondants pour chaque étape du deuil\n",
    "for stage in stages_of_grief:\n",
    "    # Recherche pleine\n",
    "    full_text_query = {\n",
    "        \"query\": {\n",
    "            \"match\": {\n",
    "                \"text\": stage\n",
    "            }\n",
    "        }\n",
    "    }\n",
    "    full_text_results = es.search(index=\"notes2\", body=full_text_query)\n",
    "    full_text_count = full_text_results[\"hits\"][\"total\"][\"value\"]\n",
    "    \n",
    "    # Recherche fuzzy\n",
    "    fuzzy_query = {\n",
    "        \"query\": {\n",
    "            \"fuzzy\": {\n",
    "                \"text\": {\n",
    "                    \"value\": stage,\n",
    "                    \"fuzziness\": \"AUTO\"\n",
    "                }\n",
    "            }\n",
    "        }\n",
    "    }\n",
    "    fuzzy_results = es.search(index=\"notes2\", body=fuzzy_query)\n",
    "    fuzzy_count = fuzzy_results[\"hits\"][\"total\"][\"value\"]\n",
    "    \n",
    "    print(f\"Stage: {stage}, Full Text Count: {full_text_count}, Fuzzy Count: {fuzzy_count}\")\n"
   ]
  }
 ],
 "metadata": {
  "kernelspec": {
   "display_name": "nlp_env",
   "language": "python",
   "name": "python3"
  },
  "language_info": {
   "codemirror_mode": {
    "name": "ipython",
    "version": 3
   },
   "file_extension": ".py",
   "mimetype": "text/x-python",
   "name": "python",
   "nbconvert_exporter": "python",
   "pygments_lexer": "ipython3",
   "version": "3.8.16"
  },
  "orig_nbformat": 4
 },
 "nbformat": 4,
 "nbformat_minor": 2
}
