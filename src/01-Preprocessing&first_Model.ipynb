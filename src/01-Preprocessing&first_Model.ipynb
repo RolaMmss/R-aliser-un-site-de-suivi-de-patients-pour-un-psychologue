{
 "cells": [
  {
   "attachments": {},
   "cell_type": "markdown",
   "metadata": {},
   "source": [
    "# <center><b> <em> Data Preprocessing </em> </b></center>"
   ]
  },
  {
   "attachments": {},
   "cell_type": "markdown",
   "metadata": {},
   "source": [
    "## <font color=\"green\"> | - Import des Biblio et Dataframe</font>"
   ]
  },
  {
   "cell_type": "code",
   "execution_count": 32,
   "metadata": {},
   "outputs": [],
   "source": [
    "import pandas as pd\n",
    "import texthero as hero\n",
    "import matplotlib.pyplot as plt\n",
    "import seaborn as sns\n",
    "from texthero import preprocessing\n",
    "import nltk\n",
    "from nltk import FreqDist\n",
    "from nltk.corpus import stopwords\n",
    "import nltk\n",
    "from nltk.stem import WordNetLemmatizer\n",
    "import numpy as np\n",
    "import matplotlib.pyplot as plt\n",
    "from sklearn.feature_extraction.text import CountVectorizer, TfidfVectorizer\n",
    "from sklearn.model_selection import train_test_split\n",
    "from sklearn.linear_model import LogisticRegression\n",
    "from sklearn.metrics import classification_report\n"
   ]
  },
  {
   "cell_type": "code",
   "execution_count": 33,
   "metadata": {},
   "outputs": [],
   "source": [
    "# Read the XLSX file\n",
    "data= pd.read_csv(\"../data/Emotion_final.csv\")"
   ]
  },
  {
   "attachments": {},
   "cell_type": "markdown",
   "metadata": {},
   "source": [
    "## <font color=\"green\"> || - Data Visualisation :</font>"
   ]
  },
  {
   "cell_type": "code",
   "execution_count": 34,
   "metadata": {},
   "outputs": [
    {
     "data": {
      "text/html": [
       "<div>\n",
       "<style scoped>\n",
       "    .dataframe tbody tr th:only-of-type {\n",
       "        vertical-align: middle;\n",
       "    }\n",
       "\n",
       "    .dataframe tbody tr th {\n",
       "        vertical-align: top;\n",
       "    }\n",
       "\n",
       "    .dataframe thead th {\n",
       "        text-align: right;\n",
       "    }\n",
       "</style>\n",
       "<table border=\"1\" class=\"dataframe\">\n",
       "  <thead>\n",
       "    <tr style=\"text-align: right;\">\n",
       "      <th></th>\n",
       "      <th>Text</th>\n",
       "      <th>Emotion</th>\n",
       "    </tr>\n",
       "  </thead>\n",
       "  <tbody>\n",
       "    <tr>\n",
       "      <th>0</th>\n",
       "      <td>i didnt feel humiliated</td>\n",
       "      <td>sadness</td>\n",
       "    </tr>\n",
       "    <tr>\n",
       "      <th>1</th>\n",
       "      <td>i can go from feeling so hopeless to so damned...</td>\n",
       "      <td>sadness</td>\n",
       "    </tr>\n",
       "    <tr>\n",
       "      <th>2</th>\n",
       "      <td>im grabbing a minute to post i feel greedy wrong</td>\n",
       "      <td>anger</td>\n",
       "    </tr>\n",
       "    <tr>\n",
       "      <th>3</th>\n",
       "      <td>i am ever feeling nostalgic about the fireplac...</td>\n",
       "      <td>love</td>\n",
       "    </tr>\n",
       "    <tr>\n",
       "      <th>4</th>\n",
       "      <td>i am feeling grouchy</td>\n",
       "      <td>anger</td>\n",
       "    </tr>\n",
       "    <tr>\n",
       "      <th>...</th>\n",
       "      <td>...</td>\n",
       "      <td>...</td>\n",
       "    </tr>\n",
       "    <tr>\n",
       "      <th>21454</th>\n",
       "      <td>Melissa stared at her friend in dism</td>\n",
       "      <td>fear</td>\n",
       "    </tr>\n",
       "    <tr>\n",
       "      <th>21455</th>\n",
       "      <td>Successive state elections have seen the gover...</td>\n",
       "      <td>fear</td>\n",
       "    </tr>\n",
       "    <tr>\n",
       "      <th>21456</th>\n",
       "      <td>Vincent was irritated but not dismay</td>\n",
       "      <td>fear</td>\n",
       "    </tr>\n",
       "    <tr>\n",
       "      <th>21457</th>\n",
       "      <td>Kendall-Hume turned back to face the dismayed ...</td>\n",
       "      <td>fear</td>\n",
       "    </tr>\n",
       "    <tr>\n",
       "      <th>21458</th>\n",
       "      <td>I am dismayed , but not surpris</td>\n",
       "      <td>fear</td>\n",
       "    </tr>\n",
       "  </tbody>\n",
       "</table>\n",
       "<p>21459 rows × 2 columns</p>\n",
       "</div>"
      ],
      "text/plain": [
       "                                                    Text  Emotion\n",
       "0                                i didnt feel humiliated  sadness\n",
       "1      i can go from feeling so hopeless to so damned...  sadness\n",
       "2       im grabbing a minute to post i feel greedy wrong    anger\n",
       "3      i am ever feeling nostalgic about the fireplac...     love\n",
       "4                                   i am feeling grouchy    anger\n",
       "...                                                  ...      ...\n",
       "21454               Melissa stared at her friend in dism     fear\n",
       "21455  Successive state elections have seen the gover...     fear\n",
       "21456               Vincent was irritated but not dismay     fear\n",
       "21457  Kendall-Hume turned back to face the dismayed ...     fear\n",
       "21458                    I am dismayed , but not surpris     fear\n",
       "\n",
       "[21459 rows x 2 columns]"
      ]
     },
     "execution_count": 34,
     "metadata": {},
     "output_type": "execute_result"
    }
   ],
   "source": [
    "data"
   ]
  },
  {
   "cell_type": "code",
   "execution_count": 35,
   "metadata": {},
   "outputs": [
    {
     "name": "stdout",
     "output_type": "stream",
     "text": [
      "<class 'pandas.core.frame.DataFrame'>\n",
      "RangeIndex: 21459 entries, 0 to 21458\n",
      "Data columns (total 2 columns):\n",
      " #   Column   Non-Null Count  Dtype \n",
      "---  ------   --------------  ----- \n",
      " 0   Text     21459 non-null  object\n",
      " 1   Emotion  21459 non-null  object\n",
      "dtypes: object(2)\n",
      "memory usage: 335.4+ KB\n"
     ]
    }
   ],
   "source": [
    "data.info()"
   ]
  },
  {
   "cell_type": "code",
   "execution_count": 36,
   "metadata": {},
   "outputs": [
    {
     "data": {
      "text/plain": [
       "array(['sadness', 'anger', 'love', 'surprise', 'fear', 'happy'],\n",
       "      dtype=object)"
      ]
     },
     "execution_count": 36,
     "metadata": {},
     "output_type": "execute_result"
    }
   ],
   "source": [
    "data[\"Emotion\"].unique()"
   ]
  },
  {
   "cell_type": "code",
   "execution_count": 37,
   "metadata": {},
   "outputs": [
    {
     "data": {
      "text/plain": [
       "Text       0\n",
       "Emotion    0\n",
       "dtype: int64"
      ]
     },
     "execution_count": 37,
     "metadata": {},
     "output_type": "execute_result"
    }
   ],
   "source": [
    "data.isna().sum()"
   ]
  },
  {
   "cell_type": "code",
   "execution_count": 38,
   "metadata": {},
   "outputs": [
    {
     "data": {
      "text/plain": [
       "Emotion\n",
       "happy       7029\n",
       "sadness     6265\n",
       "anger       2993\n",
       "fear        2652\n",
       "love        1641\n",
       "surprise     879\n",
       "Name: count, dtype: int64"
      ]
     },
     "execution_count": 38,
     "metadata": {},
     "output_type": "execute_result"
    }
   ],
   "source": [
    "# Répartition des textes par émotions\n",
    "emotion_counts = data['Emotion'].value_counts()\n",
    "emotion_counts"
   ]
  },
  {
   "cell_type": "code",
   "execution_count": 39,
   "metadata": {},
   "outputs": [
    {
     "data": {
      "image/png": "[encoded data removed]",
      "text/plain": [
       "<Figure size 1000x600 with 1 Axes>"
      ]
     },
     "metadata": {},
     "output_type": "display_data"
    }
   ],
   "source": [
    "plt.figure(figsize=(10, 6))\n",
    "sns.barplot(x=emotion_counts.index, y=emotion_counts.values)\n",
    "plt.xlabel('Emotions')\n",
    "plt.ylabel('Nombre de textes')\n",
    "plt.title('Répartition des textes par émotions')\n",
    "plt.show()"
   ]
  },
  {
   "attachments": {},
   "cell_type": "markdown",
   "metadata": {},
   "source": [
    "## <font color=\"green\"> ||| - Data Preprocessing</font>"
   ]
  },
  {
   "cell_type": "code",
   "execution_count": 40,
   "metadata": {},
   "outputs": [],
   "source": [
    "# Prétraitement des données\n",
    "custom_pipeline = [preprocessing.fillna,\n",
    "                   preprocessing.lowercase,\n",
    "                   preprocessing.remove_whitespace,\n",
    "                   preprocessing.remove_diacritics,\n",
    "                   preprocessing.remove_punctuation,\n",
    "                   preprocessing.remove_urls,\n",
    "                   preprocessing.remove_digits,\n",
    "                   preprocessing.remove_brackets,\n",
    "                   preprocessing.remove_angle_brackets,\n",
    "                   preprocessing.remove_curly_brackets,\n",
    "                   preprocessing.remove_square_brackets,\n",
    "                   preprocessing.remove_punctuation,\n",
    "                   preprocessing.remove_round_brackets,\n",
    "                   preprocessing.remove_html_tags,\n",
    "                   preprocessing.remove_whitespace,\n",
    "                   preprocessing.remove_stopwords]\n",
    "\n",
    "\n",
    "\n",
    "data['clean_text'] = hero.clean(data['Text'], pipeline=custom_pipeline)\n"
   ]
  },
  {
   "cell_type": "code",
   "execution_count": 41,
   "metadata": {},
   "outputs": [
    {
     "data": {
      "text/html": [
       "<div>\n",
       "<style scoped>\n",
       "    .dataframe tbody tr th:only-of-type {\n",
       "        vertical-align: middle;\n",
       "    }\n",
       "\n",
       "    .dataframe tbody tr th {\n",
       "        vertical-align: top;\n",
       "    }\n",
       "\n",
       "    .dataframe thead th {\n",
       "        text-align: right;\n",
       "    }\n",
       "</style>\n",
       "<table border=\"1\" class=\"dataframe\">\n",
       "  <thead>\n",
       "    <tr style=\"text-align: right;\">\n",
       "      <th></th>\n",
       "      <th>Text</th>\n",
       "      <th>Emotion</th>\n",
       "      <th>clean_text</th>\n",
       "    </tr>\n",
       "  </thead>\n",
       "  <tbody>\n",
       "    <tr>\n",
       "      <th>0</th>\n",
       "      <td>i didnt feel humiliated</td>\n",
       "      <td>sadness</td>\n",
       "      <td>didnt feel humiliated</td>\n",
       "    </tr>\n",
       "    <tr>\n",
       "      <th>1</th>\n",
       "      <td>i can go from feeling so hopeless to so damned...</td>\n",
       "      <td>sadness</td>\n",
       "      <td>go  feeling  hopeless   damned hopeful    ar...</td>\n",
       "    </tr>\n",
       "    <tr>\n",
       "      <th>2</th>\n",
       "      <td>im grabbing a minute to post i feel greedy wrong</td>\n",
       "      <td>anger</td>\n",
       "      <td>im grabbing  minute  post  feel greedy wrong</td>\n",
       "    </tr>\n",
       "    <tr>\n",
       "      <th>3</th>\n",
       "      <td>i am ever feeling nostalgic about the fireplac...</td>\n",
       "      <td>love</td>\n",
       "      <td>ever feeling nostalgic   fireplace   know   ...</td>\n",
       "    </tr>\n",
       "    <tr>\n",
       "      <th>4</th>\n",
       "      <td>i am feeling grouchy</td>\n",
       "      <td>anger</td>\n",
       "      <td>feeling grouchy</td>\n",
       "    </tr>\n",
       "    <tr>\n",
       "      <th>...</th>\n",
       "      <td>...</td>\n",
       "      <td>...</td>\n",
       "      <td>...</td>\n",
       "    </tr>\n",
       "    <tr>\n",
       "      <th>21454</th>\n",
       "      <td>Melissa stared at her friend in dism</td>\n",
       "      <td>fear</td>\n",
       "      <td>melissa stared   friend  dism</td>\n",
       "    </tr>\n",
       "    <tr>\n",
       "      <th>21455</th>\n",
       "      <td>Successive state elections have seen the gover...</td>\n",
       "      <td>fear</td>\n",
       "      <td>successive state elections  seen  governing pa...</td>\n",
       "    </tr>\n",
       "    <tr>\n",
       "      <th>21456</th>\n",
       "      <td>Vincent was irritated but not dismay</td>\n",
       "      <td>fear</td>\n",
       "      <td>vincent  irritated   dismay</td>\n",
       "    </tr>\n",
       "    <tr>\n",
       "      <th>21457</th>\n",
       "      <td>Kendall-Hume turned back to face the dismayed ...</td>\n",
       "      <td>fear</td>\n",
       "      <td>kendall hume turned back  face  dismayed coup</td>\n",
       "    </tr>\n",
       "    <tr>\n",
       "      <th>21458</th>\n",
       "      <td>I am dismayed , but not surpris</td>\n",
       "      <td>fear</td>\n",
       "      <td>dismayed   surpris</td>\n",
       "    </tr>\n",
       "  </tbody>\n",
       "</table>\n",
       "<p>21459 rows × 3 columns</p>\n",
       "</div>"
      ],
      "text/plain": [
       "                                                    Text  Emotion  \\\n",
       "0                                i didnt feel humiliated  sadness   \n",
       "1      i can go from feeling so hopeless to so damned...  sadness   \n",
       "2       im grabbing a minute to post i feel greedy wrong    anger   \n",
       "3      i am ever feeling nostalgic about the fireplac...     love   \n",
       "4                                   i am feeling grouchy    anger   \n",
       "...                                                  ...      ...   \n",
       "21454               Melissa stared at her friend in dism     fear   \n",
       "21455  Successive state elections have seen the gover...     fear   \n",
       "21456               Vincent was irritated but not dismay     fear   \n",
       "21457  Kendall-Hume turned back to face the dismayed ...     fear   \n",
       "21458                    I am dismayed , but not surpris     fear   \n",
       "\n",
       "                                              clean_text  \n",
       "0                                  didnt feel humiliated  \n",
       "1        go  feeling  hopeless   damned hopeful    ar...  \n",
       "2           im grabbing  minute  post  feel greedy wrong  \n",
       "3        ever feeling nostalgic   fireplace   know   ...  \n",
       "4                                        feeling grouchy  \n",
       "...                                                  ...  \n",
       "21454                      melissa stared   friend  dism  \n",
       "21455  successive state elections  seen  governing pa...  \n",
       "21456                        vincent  irritated   dismay  \n",
       "21457      kendall hume turned back  face  dismayed coup  \n",
       "21458                                 dismayed   surpris  \n",
       "\n",
       "[21459 rows x 3 columns]"
      ]
     },
     "execution_count": 41,
     "metadata": {},
     "output_type": "execute_result"
    }
   ],
   "source": [
    "data"
   ]
  },
  {
   "cell_type": "code",
   "execution_count": 42,
   "metadata": {},
   "outputs": [],
   "source": [
    "# Extraction des mots les plus courants pour chaque sentiment\n",
    "top_words_by_emotion = {}\n",
    "for emotion in data['Emotion'].unique():\n",
    "    mask = data['Emotion'] == emotion\n",
    "    text = data[mask]['clean_text']\n",
    "    words = ' '.join(text).split()\n",
    "    word_freq = FreqDist(words)\n",
    "    top_words = [word for word, freq in word_freq.most_common(30) if word not in stopwords.words('english')]\n",
    "    top_words_by_emotion[emotion] = top_words"
   ]
  },
  {
   "cell_type": "code",
   "execution_count": 43,
   "metadata": {},
   "outputs": [
    {
     "name": "stdout",
     "output_type": "stream",
     "text": [
      "Emotion: sadness\n",
      "['feel', 'feeling', 'like', 'im', 'really', 'know', 'get', 'would', 'time', 'little', 'ive', 'still', 'even', 'want', 'one', 'life', 'people', 'think', 'bit', 'things', 'much', 'dont', 'make', 'day', 'something', 'back', 'going', 'way', 'could', 'pretty']\n",
      "\n",
      "Emotion: anger\n",
      "['feel', 'feeling', 'like', 'im', 'really', 'get', 'people', 'know', 'time', 'little', 'want', 'even', 'would', 'angry', 'think', 'one', 'could', 'things', 'bit', 'way', 'offended', 'dont', 'resentful', 'cold', 'still', 'something', 'irritable', 'cant', 'going', 'bothered']\n",
      "\n",
      "Emotion: love\n",
      "['feel', 'feeling', 'like', 'im', 'love', 'really', 'know', 'sweet', 'loving', 'time', 'want', 'people', 'caring', 'passionate', 'one', 'sympathetic', 'life', 'liked', 'get', 'hot', 'little', 'feelings', 'tender', 'lovely', 'longing', 'loved', 'would', 'need', 'accepted', 'nostalgic']\n",
      "\n",
      "Emotion: surprise\n",
      "['feel', 'feeling', 'like', 'im', 'amazed', 'impressed', 'curious', 'overwhelmed', 'funny', 'surprised', 'weird', 'strange', 'amazing', 'really', 'little', 'shocked', 'still', 'time', 'stunned', 'dazed', 'bit', 'people', 'would', 'know', 'think', 'one', 'feels', 'much', 'could', 'life']\n",
      "\n",
      "Emotion: fear\n",
      "['feel', 'feeling', 'im', 'like', 'little', 'bit', 'know', 'really', 'anxious', 'time', 'still', 'people', 'one', 'nervous', 'get', 'want', 'would', 'strange', 'terrified', 'think', 'going', 'ive', 'afraid', 'agitated', 'scared', 'frightened', 'go', 'weird', 'things', 'even']\n",
      "\n",
      "Emotion: happy\n",
      "['feel', 'feeling', 'like', 'im', 'really', 'time', 'know', 'get', 'make', 'people', 'would', 'one', 'want', 'good', 'something', 'little', 'think', 'pretty', 'life', 'much', 'love', 'even', 'going', 'ive', 'happy', 'could', 'day', 'still', 'well', 'dont']\n",
      "\n"
     ]
    }
   ],
   "source": [
    "# Affichage des 30 mots les plus courants pour chaque sentiment\n",
    "for emotion, words in top_words_by_emotion.items():\n",
    "    print(f\"Emotion: {emotion}\")\n",
    "    print(words)\n",
    "    print()"
   ]
  },
  {
   "cell_type": "code",
   "execution_count": 44,
   "metadata": {},
   "outputs": [
    {
     "name": "stdout",
     "output_type": "stream",
     "text": [
      "Emotion: sadness\n",
      "{'something', 'could', 'ive', 'day', 'still', 'really', 'way', 'pretty', 'want', 'back'}\n",
      "\n",
      "Emotion: anger\n",
      "{'cant', 'could', 'angry', 'something', 'irritable', 'still', 'really', 'way', 'bothered', 'cold', 'want', 'resentful', 'offended'}\n",
      "\n",
      "Emotion: love\n",
      "{'sweet', 'liked', 'longing', 'nostalgic', 'accepted', 'love', 'really', 'caring', 'passionate', 'tender', 'loved', 'need', 'loving', 'want', 'lovely', 'hot', 'sympathetic'}\n",
      "\n",
      "Emotion: surprise\n",
      "{'impressed', 'feel', 'curious', 'could', 'amazing', 'strange', 'still', 'surprised', 'dazed', 'weird', 'really', 'shocked', 'amazed', 'stunned', 'funny', 'overwhelmed'}\n",
      "\n",
      "Emotion: fear\n",
      "{'anxious', 'ive', 'terrified', 'strange', 'still', 'afraid', 'weird', 'frightened', 'really', 'scared', 'go', 'nervous', 'want', 'agitated'}\n",
      "\n",
      "Emotion: happy\n",
      "{'something', 'could', 'ive', 'day', 'well', 'still', 'good', 'love', 'really', 'pretty', 'happy', 'want'}\n",
      "\n"
     ]
    },
    {
     "name": "stderr",
     "output_type": "stream",
     "text": [
      "[nltk_data] Downloading package wordnet to\n",
      "[nltk_data]     /home/apprenant/nltk_data...\n",
      "[nltk_data]   Package wordnet is already up-to-date!\n"
     ]
    }
   ],
   "source": [
    "\n",
    "nltk.download('wordnet')\n",
    "\n",
    "# stopwords_list = ['feeling','feel','people','im','going', 'one', 'something', 'get','ive','back','day','know','time','way','thing','even','cant']\n",
    "stopwords_list = ['feel','feeling','feelings','like','im','know','get','would','time','little','even','one','life','people','think','bit','things','much','dont','make','going']\n",
    "\n",
    "# Initialiser le lemmatiseur WordNet\n",
    "lemmatizer = WordNetLemmatizer()\n",
    "\n",
    "# Supprimer les mots qui se ressemblent et garder la racine\n",
    "for emotion, words in top_words_by_emotion.items():\n",
    "    print(f\"Emotion: {emotion}\")\n",
    "    lemmatized_words = [lemmatizer.lemmatize(word) for word in words if word not in stopwords_list]\n",
    "    unique_words = set(lemmatized_words)\n",
    "    print(unique_words)\n",
    "    print()\n"
   ]
  },
  {
   "attachments": {},
   "cell_type": "markdown",
   "metadata": {},
   "source": [
    "## <font color=\"green\"> IV - Métrique de proximité entre les sentiments </font>"
   ]
  },
  {
   "cell_type": "code",
   "execution_count": 45,
   "metadata": {},
   "outputs": [
    {
     "data": {
      "image/png": "[encoded data removed]",
      "text/plain": [
       "<Figure size 1500x800 with 2 Axes>"
      ]
     },
     "metadata": {},
     "output_type": "display_data"
    }
   ],
   "source": [
    "\n",
    "# Créer une matrice vide pour stocker la proximité entre les sentiments\n",
    "proximity_matrix = np.zeros((len(top_words_by_emotion), len(top_words_by_emotion)))\n",
    "\n",
    "# Calculer la proximité entre les sentiments\n",
    "for i, (emotion1, top_words1) in enumerate(top_words_by_emotion.items()):\n",
    "    for j, (emotion2, top_words2) in enumerate(top_words_by_emotion.items()):\n",
    "        # Calculer le nombre de mots en commun entre les deux sentiments\n",
    "        common_words = set(top_words1) & set(top_words2)\n",
    "        \n",
    "        # Stocker la proximité normalisée entre les sentiments dans la matrice\n",
    "        proximity_matrix[i, j] = len(common_words) / len(set(top_words1) | set(top_words2))\n",
    "        # Remark : En divisant le nombre de mots en commun par le nombre total de mots distincts, nous obtenons une valeur de proximité normalisée entre 0 et 1. \n",
    "        # Plus cette valeur est proche de 1, plus les sentiments sont similaires en termes de mots les plus courants.\n",
    "\n",
    "\n",
    "# Afficher la matrice de proximité sous forme de heatmap avec annotations\n",
    "plt.figure(figsize=(15, 8))\n",
    "plt.imshow(proximity_matrix, cmap='viridis')\n",
    "\n",
    "# Ajouter les annotations des valeurs sur chaque carré de la matrice\n",
    "for i in range(len(top_words_by_emotion)):\n",
    "    for j in range(len(top_words_by_emotion)):\n",
    "        plt.text(j, i, f'{proximity_matrix[i, j]:.2f}', ha='center', va='center', color='white')\n",
    "\n",
    "plt.xticks(np.arange(len(top_words_by_emotion)), top_words_by_emotion.keys(), rotation=45)\n",
    "plt.yticks(np.arange(len(top_words_by_emotion)), top_words_by_emotion.keys())\n",
    "plt.colorbar(label='Proximité')\n",
    "plt.title('Matrice de proximité entre les sentiments')\n",
    "plt.show()\n"
   ]
  },
  {
   "attachments": {},
   "cell_type": "markdown",
   "metadata": {},
   "source": [
    "## <font color=\"green\"> V - First Machine Learning Model : </font>"
   ]
  },
  {
   "cell_type": "code",
   "execution_count": 46,
   "metadata": {},
   "outputs": [
    {
     "name": "stderr",
     "output_type": "stream",
     "text": [
      "/home/apprenant/miniconda3/envs/nlp_env/lib/python3.8/site-packages/sklearn/linear_model/_logistic.py:460: ConvergenceWarning: lbfgs failed to converge (status=1):\n",
      "STOP: TOTAL NO. of ITERATIONS REACHED LIMIT.\n",
      "\n",
      "Increase the number of iterations (max_iter) or scale the data as shown in:\n",
      "    https://scikit-learn.org/stable/modules/preprocessing.html\n",
      "Please also refer to the documentation for alternative solver options:\n",
      "    https://scikit-learn.org/stable/modules/linear_model.html#logistic-regression\n",
      "  n_iter_i = _check_optimize_result(\n"
     ]
    },
    {
     "name": "stdout",
     "output_type": "stream",
     "text": [
      "Rapport de classification pour le modèle BoW :\n",
      "              precision    recall  f1-score   support\n",
      "\n",
      "       anger       0.91      0.86      0.88       617\n",
      "        fear       0.87      0.85      0.86       531\n",
      "       happy       0.91      0.94      0.92      1381\n",
      "        love       0.82      0.78      0.80       318\n",
      "     sadness       0.92      0.94      0.93      1277\n",
      "    surprise       0.78      0.72      0.75       168\n",
      "\n",
      "    accuracy                           0.89      4292\n",
      "   macro avg       0.87      0.85      0.86      4292\n",
      "weighted avg       0.89      0.89      0.89      4292\n",
      "\n",
      "\n",
      "Rapport de classification pour le modèle TF-IDF :\n",
      "              precision    recall  f1-score   support\n",
      "\n",
      "       anger       0.92      0.80      0.86       617\n",
      "        fear       0.87      0.79      0.83       531\n",
      "       happy       0.85      0.96      0.90      1381\n",
      "        love       0.90      0.66      0.76       318\n",
      "     sadness       0.89      0.95      0.92      1277\n",
      "    surprise       0.86      0.55      0.67       168\n",
      "\n",
      "    accuracy                           0.88      4292\n",
      "   macro avg       0.88      0.79      0.82      4292\n",
      "weighted avg       0.88      0.88      0.87      4292\n",
      "\n"
     ]
    },
    {
     "name": "stderr",
     "output_type": "stream",
     "text": [
      "/home/apprenant/miniconda3/envs/nlp_env/lib/python3.8/site-packages/sklearn/linear_model/_logistic.py:460: ConvergenceWarning: lbfgs failed to converge (status=1):\n",
      "STOP: TOTAL NO. of ITERATIONS REACHED LIMIT.\n",
      "\n",
      "Increase the number of iterations (max_iter) or scale the data as shown in:\n",
      "    https://scikit-learn.org/stable/modules/preprocessing.html\n",
      "Please also refer to the documentation for alternative solver options:\n",
      "    https://scikit-learn.org/stable/modules/linear_model.html#logistic-regression\n",
      "  n_iter_i = _check_optimize_result(\n"
     ]
    },
    {
     "data": {
      "text/plain": [
       "array([0.52319968, 0.7260893 , 0.44777493, ..., 0.55358467, 0.63374313,\n",
       "       0.71624663])"
      ]
     },
     "execution_count": 46,
     "metadata": {},
     "output_type": "execute_result"
    }
   ],
   "source": [
    "# Diviser les données en ensembles d'entraînement et de test\n",
    "X_train, X_test, y_train, y_test = train_test_split(data['clean_text'], data['Emotion'], test_size=0.2, random_state=42)\n",
    "\n",
    "# Créer le modèle Bag of Words (BoW)\n",
    "bow_vectorizer = CountVectorizer()\n",
    "X_train_bow = bow_vectorizer.fit_transform(X_train)\n",
    "X_test_bow = bow_vectorizer.transform(X_test)\n",
    "\n",
    "# Entraîner et évaluer le modèle BoW avec une régression logistique\n",
    "bow_model = LogisticRegression()\n",
    "bow_model.fit(X_train_bow, y_train)\n",
    "bow_predictions = bow_model.predict(X_test_bow)\n",
    "\n",
    "print(\"Rapport de classification pour le modèle BoW :\")\n",
    "print(classification_report(y_test, bow_predictions))\n",
    "print()\n",
    "\n",
    "# Créer le modèle TF-IDF\n",
    "tfidf_vectorizer = TfidfVectorizer()\n",
    "X_train_tfidf = tfidf_vectorizer.fit_transform(X_train)\n",
    "X_test_tfidf = tfidf_vectorizer.transform(X_test)\n",
    "\n",
    "# Entraîner et évaluer le modèle TF-IDF avec une régression logistique\n",
    "tfidf_model = LogisticRegression()\n",
    "tfidf_model.fit(X_train_tfidf, y_train)\n",
    "tfidf_predictions = tfidf_model.predict(X_test_tfidf)\n",
    "\n",
    "# Mesure de confiance (ici, probabilité de la classe prédite)\n",
    "confidence = tfidf_model.predict_proba(X_test_tfidf).max(axis=1)\n",
    "\n",
    "print(\"Rapport de classification pour le modèle TF-IDF :\")\n",
    "print(classification_report(y_test, tfidf_predictions))\n",
    "confidence"
   ]
  },
  {
   "cell_type": "code",
   "execution_count": 47,
   "metadata": {},
   "outputs": [
    {
     "data": {
      "text/plain": [
       "array(['happy', 'anger', 'sadness', ..., 'anger', 'anger', 'happy'],\n",
       "      dtype=object)"
      ]
     },
     "execution_count": 47,
     "metadata": {},
     "output_type": "execute_result"
    }
   ],
   "source": [
    "tfidf_predictions"
   ]
  },
  {
   "cell_type": "code",
   "execution_count": 48,
   "metadata": {},
   "outputs": [
    {
     "data": {
      "text/plain": [
       "0                                  i didnt feel humiliated\n",
       "1        i can go from feeling so hopeless to so damned...\n",
       "2         im grabbing a minute to post i feel greedy wrong\n",
       "3        i am ever feeling nostalgic about the fireplac...\n",
       "4                                     i am feeling grouchy\n",
       "                               ...                        \n",
       "21454                 Melissa stared at her friend in dism\n",
       "21455    Successive state elections have seen the gover...\n",
       "21456                 Vincent was irritated but not dismay\n",
       "21457    Kendall-Hume turned back to face the dismayed ...\n",
       "21458                      I am dismayed , but not surpris\n",
       "Name: Text, Length: 21459, dtype: object"
      ]
     },
     "execution_count": 48,
     "metadata": {},
     "output_type": "execute_result"
    }
   ],
   "source": [
    "data['Text']"
   ]
  },
  {
   "cell_type": "code",
   "execution_count": 59,
   "metadata": {},
   "outputs": [
    {
     "name": "stderr",
     "output_type": "stream",
     "text": [
      "/tmp/ipykernel_16897/739911790.py:24: DeprecationWarning: The 'body' parameter is deprecated and will be removed in a future version. Instead use the 'document' parameter. See https://github.com/elastic/elasticsearch-py/issues/1698 for more information\n",
      "  es.index(index=\"notes2\", body=document)\n",
      "/tmp/ipykernel_16897/739911790.py:24: ElasticsearchWarning: Elasticsearch built-in security features are not enabled. Without authentication, your cluster could be accessible to anyone. See https://www.elastic.co/guide/en/elasticsearch/reference/7.17/security-minimal-setup.html to enable security.\n",
      "  es.index(index=\"notes2\", body=document)\n"
     ]
    },
    {
     "name": "stdout",
     "output_type": "stream",
     "text": [
      "Emotion: happy, Confidence: 0.5231996847165503\n",
      "Emotion: happy, Confidence: 0.40182865877104257\n",
      "Emotion: happy, Confidence: 0.7655663911347499\n",
      "Emotion: happy, Confidence: 0.8459004268701387\n",
      "Emotion: happy, Confidence: 0.2605887059263876\n",
      "Emotion: happy, Confidence: 0.628869479265879\n",
      "Emotion: happy, Confidence: 0.38405614990812686\n",
      "Emotion: happy, Confidence: 0.6658740506816098\n",
      "Emotion: happy, Confidence: 0.6187301126987258\n",
      "Emotion: happy, Confidence: 0.8776179283899053\n"
     ]
    },
    {
     "name": "stderr",
     "output_type": "stream",
     "text": [
      "/tmp/ipykernel_16897/739911790.py:35: DeprecationWarning: The 'body' parameter is deprecated and will be removed in a future version. Instead use individual parameters.\n",
      "  search_results = es.search(index=\"notes2\", body=search_query)\n",
      "/tmp/ipykernel_16897/739911790.py:35: ElasticsearchWarning: Elasticsearch built-in security features are not enabled. Without authentication, your cluster could be accessible to anyone. See https://www.elastic.co/guide/en/elasticsearch/reference/7.17/security-minimal-setup.html to enable security.\n",
      "  search_results = es.search(index=\"notes2\", body=search_query)\n"
     ]
    }
   ],
   "source": [
    "from sklearn.feature_extraction.text import TfidfVectorizer\n",
    "from sklearn.model_selection import train_test_split\n",
    "from sklearn.svm import SVC\n",
    "from sklearn.metrics import classification_report\n",
    "from elasticsearch import Elasticsearch\n",
    "from faker import Faker\n",
    "\n",
    "\n",
    "# Connexion à Elasticsearch\n",
    "es = Elasticsearch([{'host': 'localhost', 'port':9200, 'scheme':'http'}])\n",
    "\n",
    "# Alimentation de l'index \"notes\" avec les données factices et les prédictions\n",
    "fake = Faker()\n",
    "for i, emotion, conf in zip(range(len(X_test)), tfidf_predictions, confidence):\n",
    "    document = {\n",
    "        \"patient_lastname\": fake.last_name(),\n",
    "        \"patient_firstname\": fake.first_name(),\n",
    "        \"text\": data['Text'][i],\n",
    "        \"date\": fake.date_this_decade(),\n",
    "        \"patient_left\": fake.boolean(),\n",
    "        \"emotion\": tfidf_predictions[i],\n",
    "        \"confidence\": confidence[i]\n",
    "    }\n",
    "    es.index(index=\"notes2\", body=document)\n",
    "\n",
    "# Vérification des résultats\n",
    "search_query = {\n",
    "    \"query\": {\n",
    "        \"match\": {\n",
    "            \"emotion\": \"happy\"  # Émotion à rechercher\n",
    "        }\n",
    "    }\n",
    "}\n",
    "\n",
    "search_results = es.search(index=\"notes2\", body=search_query)\n",
    "for hit in search_results[\"hits\"][\"hits\"]:\n",
    "    print(f\"Emotion: {hit['_source']['emotion']}, Confidence: {hit['_source']['confidence']}\")\n"
   ]
  },
  {
   "cell_type": "code",
   "execution_count": 50,
   "metadata": {},
   "outputs": [
    {
     "name": "stdout",
     "output_type": "stream",
     "text": [
      "Emotion: anger, Confidence: 0.7260893017467942\n",
      "Emotion: anger, Confidence: 0.6494661737200706\n",
      "Emotion: anger, Confidence: 0.2971605954865059\n",
      "Emotion: anger, Confidence: 0.43314433347176295\n",
      "Emotion: anger, Confidence: 0.7260059944532392\n",
      "Emotion: anger, Confidence: 0.8842673167022596\n",
      "Emotion: anger, Confidence: 0.7763694867826741\n",
      "Emotion: anger, Confidence: 0.5502009007821632\n",
      "Emotion: anger, Confidence: 0.37805145457176514\n",
      "Emotion: anger, Confidence: 0.5995251239224669\n"
     ]
    },
    {
     "name": "stderr",
     "output_type": "stream",
     "text": [
      "/tmp/ipykernel_16897/35963937.py:10: DeprecationWarning: The 'body' parameter is deprecated and will be removed in a future version. Instead use individual parameters.\n",
      "  search_results = es.search(index=\"notes2\", body=search_query)\n",
      "/tmp/ipykernel_16897/35963937.py:10: ElasticsearchWarning: Elasticsearch built-in security features are not enabled. Without authentication, your cluster could be accessible to anyone. See https://www.elastic.co/guide/en/elasticsearch/reference/7.17/security-minimal-setup.html to enable security.\n",
      "  search_results = es.search(index=\"notes2\", body=search_query)\n"
     ]
    }
   ],
   "source": [
    "# Vérification des résultats\n",
    "search_query = {\n",
    "    \"query\": {\n",
    "        \"match\": {\n",
    "            \"emotion\": \"anger\"  # Émotion à rechercher\n",
    "        }\n",
    "    }\n",
    "}\n",
    "\n",
    "search_results = es.search(index=\"notes2\", body=search_query)\n",
    "for hit in search_results[\"hits\"][\"hits\"]:\n",
    "    print(f\"Emotion: {hit['_source']['emotion']}, Confidence: {hit['_source']['confidence']}\")\n"
   ]
  },
  {
   "cell_type": "code",
   "execution_count": 51,
   "metadata": {},
   "outputs": [
    {
     "name": "stdout",
     "output_type": "stream",
     "text": [
      "ID du document : 0EvrIIkB8LqwVNGagQg6\n",
      "Données du document : {'patient_lastname': 'Davies', 'patient_firstname': 'Charles', 'text': 'i didnt feel humiliated', 'date': '2021-03-29', 'patient_left': False, 'emotion': 'happy', 'confidence': 0.5231996847165503}\n",
      "--------------------\n",
      "ID du document : 0UvrIIkB8LqwVNGagQhX\n",
      "Données du document : {'patient_lastname': 'Rocha', 'patient_firstname': 'Kenneth', 'text': 'i can go from feeling so hopeless to so damned hopeful just from being around someone who cares and is awake', 'date': '2022-03-09', 'patient_left': True, 'emotion': 'anger', 'confidence': 0.7260893017467942}\n",
      "--------------------\n",
      "ID du document : 0kvrIIkB8LqwVNGagQht\n",
      "Données du document : {'patient_lastname': 'Garrison', 'patient_firstname': 'Katrina', 'text': 'im grabbing a minute to post i feel greedy wrong', 'date': '2022-09-15', 'patient_left': False, 'emotion': 'sadness', 'confidence': 0.4477749266394086}\n",
      "--------------------\n",
      "ID du document : 00vrIIkB8LqwVNGagQiF\n",
      "Données du document : {'patient_lastname': 'Christensen', 'patient_firstname': 'Anthony', 'text': 'i am ever feeling nostalgic about the fireplace i will know that it is still on the property', 'date': '2022-07-20', 'patient_left': False, 'emotion': 'sadness', 'confidence': 0.9343065421031457}\n",
      "--------------------\n",
      "ID du document : 1EvrIIkB8LqwVNGagQid\n",
      "Données du document : {'patient_lastname': 'Lee', 'patient_firstname': 'Joseph', 'text': 'i am feeling grouchy', 'date': '2023-02-17', 'patient_left': False, 'emotion': 'happy', 'confidence': 0.40182865877104257}\n",
      "--------------------\n",
      "ID du document : 1UvrIIkB8LqwVNGagQi0\n",
      "Données du document : {'patient_lastname': 'Evans', 'patient_firstname': 'Rachel', 'text': 'ive been feeling a little burdened lately wasnt sure why that was', 'date': '2023-02-24', 'patient_left': False, 'emotion': 'anger', 'confidence': 0.6494661737200706}\n",
      "--------------------\n",
      "ID du document : 1kvrIIkB8LqwVNGagQjK\n",
      "Données du document : {'patient_lastname': 'Sullivan', 'patient_firstname': 'Brandon', 'text': 'ive been taking or milligrams or times recommended amount and ive fallen asleep a lot faster but i also feel like so funny', 'date': '2023-06-22', 'patient_left': True, 'emotion': 'sadness', 'confidence': 0.9272379312047787}\n",
      "--------------------\n",
      "ID du document : 10vrIIkB8LqwVNGagQjh\n",
      "Données du document : {'patient_lastname': 'Smith', 'patient_firstname': 'Micheal', 'text': 'i feel as confused about life as a teenager or as jaded as a year old man', 'date': '2020-05-19', 'patient_left': False, 'emotion': 'happy', 'confidence': 0.7655663911347499}\n",
      "--------------------\n",
      "ID du document : 2EvrIIkB8LqwVNGagQj3\n",
      "Données du document : {'patient_lastname': 'Camacho', 'patient_firstname': 'Kayla', 'text': 'i have been with petronas for years i feel that petronas has performed well and made a huge profit', 'date': '2021-04-29', 'patient_left': True, 'emotion': 'anger', 'confidence': 0.2971605954865059}\n",
      "--------------------\n",
      "ID du document : 2UvrIIkB8LqwVNGagggU\n",
      "Données du document : {'patient_lastname': 'Gates', 'patient_firstname': 'William', 'text': 'i feel romantic too', 'date': '2022-12-07', 'patient_left': False, 'emotion': 'sadness', 'confidence': 0.9039578966973696}\n",
      "--------------------\n"
     ]
    },
    {
     "name": "stderr",
     "output_type": "stream",
     "text": [
      "/tmp/ipykernel_16897/2109587630.py:2: DeprecationWarning: The 'body' parameter is deprecated and will be removed in a future version. Instead use individual parameters.\n",
      "  response = es.search(index=\"notes2\", body={\"query\": {\"match_all\": {}}})      # envoie une requête pour récupérer des informations sur Elasticsearch.\n",
      "/tmp/ipykernel_16897/2109587630.py:2: ElasticsearchWarning: Elasticsearch built-in security features are not enabled. Without authentication, your cluster could be accessible to anyone. See https://www.elastic.co/guide/en/elasticsearch/reference/7.17/security-minimal-setup.html to enable security.\n",
      "  response = es.search(index=\"notes2\", body={\"query\": {\"match_all\": {}}})      # envoie une requête pour récupérer des informations sur Elasticsearch.\n"
     ]
    }
   ],
   "source": [
    "# Rechercher tous les documents dans l'index \"notes\"\n",
    "response = es.search(index=\"notes2\", body={\"query\": {\"match_all\": {}}})      # envoie une requête pour récupérer des informations sur Elasticsearch. \n",
    "# La réponse contient les documents correspondants. Les documents sont extraits en accédant à response['hits']['hits'].\n",
    "\n",
    "\n",
    "# Récupérer les documents à partir de la réponse\n",
    "documents = response['hits']['hits']\n",
    "\n",
    "# Parcourir les documents et afficher leurs données\n",
    "for doc in documents:\n",
    "    print(\"ID du document :\", doc['_id'])     # L'ID du document est accessible via doc['_id'].\n",
    "    print(\"Données du document :\", doc['_source'])      # Les données du document sont accessibles via doc['_source'].\n",
    "    print(\"--------------------\")\n"
   ]
  },
  {
   "cell_type": "code",
   "execution_count": 52,
   "metadata": {},
   "outputs": [
    {
     "name": "stdout",
     "output_type": "stream",
     "text": [
      "Sentiment\n",
      "happy    1\n",
      "Name: count, dtype: int64\n"
     ]
    },
    {
     "name": "stderr",
     "output_type": "stream",
     "text": [
      "/tmp/ipykernel_16897/230937345.py:24: DeprecationWarning: The 'body' parameter is deprecated and will be removed in a future version. Instead use individual parameters.\n",
      "  response = es.search(index=\"notes2\", body=query)\n",
      "/tmp/ipykernel_16897/230937345.py:24: ElasticsearchWarning: Elasticsearch built-in security features are not enabled. Without authentication, your cluster could be accessible to anyone. See https://www.elastic.co/guide/en/elasticsearch/reference/7.17/security-minimal-setup.html to enable security.\n",
      "  response = es.search(index=\"notes2\", body=query)\n"
     ]
    }
   ],
   "source": [
    "from elasticsearch import Elasticsearch\n",
    "import pandas as pd\n",
    "\n",
    "# Instancier le client Elasticsearch\n",
    "es = Elasticsearch([{'host': 'localhost', 'port':9200, 'scheme':'http'}])\n",
    "\n",
    "# Patient spécifique\n",
    "patient_lastname = \"Davies\"\n",
    "patient_firstname = \"Charles\"\n",
    "\n",
    "# Requête Elasticsearch pour récupérer les documents du patient spécifique\n",
    "query = {\n",
    "    \"query\": {\n",
    "        \"bool\": {\n",
    "            \"must\": [\n",
    "                {\"match\": {\"patient_lastname\": patient_lastname}},\n",
    "                {\"match\": {\"patient_firstname\": patient_firstname}}\n",
    "            ]\n",
    "        }\n",
    "    }\n",
    "}\n",
    "\n",
    "# Effectuer la recherche dans Elasticsearch\n",
    "response = es.search(index=\"notes2\", body=query)\n",
    "\n",
    "# Récupérer les documents correspondants\n",
    "documents = response['hits']['hits']\n",
    "\n",
    "# Liste pour stocker les sentiments\n",
    "sentiments = []\n",
    "\n",
    "# Parcourir les documents et extraire les sentiments\n",
    "for doc in documents:\n",
    "    sentiment = doc['_source']['emotion']\n",
    "    sentiments.append(sentiment)\n",
    "\n",
    "# Créer un DataFrame à partir de la liste de sentiments\n",
    "df = pd.DataFrame(sentiments, columns=[\"Sentiment\"])\n",
    "\n",
    "# Effectuer l'agrégation et le comptage des sentiments\n",
    "sentiment_counts = df['Sentiment'].value_counts()\n",
    "\n",
    "# Afficher la répartition des sentiments\n",
    "print(sentiment_counts)"
   ]
  },
  {
   "cell_type": "code",
   "execution_count": 53,
   "metadata": {},
   "outputs": [
    {
     "data": {
      "text/html": [
       "<div>\n",
       "<style scoped>\n",
       "    .dataframe tbody tr th:only-of-type {\n",
       "        vertical-align: middle;\n",
       "    }\n",
       "\n",
       "    .dataframe tbody tr th {\n",
       "        vertical-align: top;\n",
       "    }\n",
       "\n",
       "    .dataframe thead th {\n",
       "        text-align: right;\n",
       "    }\n",
       "</style>\n",
       "<table border=\"1\" class=\"dataframe\">\n",
       "  <thead>\n",
       "    <tr style=\"text-align: right;\">\n",
       "      <th></th>\n",
       "      <th>Sentiment</th>\n",
       "    </tr>\n",
       "  </thead>\n",
       "  <tbody>\n",
       "    <tr>\n",
       "      <th>0</th>\n",
       "      <td>happy</td>\n",
       "    </tr>\n",
       "  </tbody>\n",
       "</table>\n",
       "</div>"
      ],
      "text/plain": [
       "  Sentiment\n",
       "0     happy"
      ]
     },
     "execution_count": 53,
     "metadata": {},
     "output_type": "execute_result"
    }
   ],
   "source": [
    "df"
   ]
  },
  {
   "cell_type": "code",
   "execution_count": 54,
   "metadata": {},
   "outputs": [
    {
     "name": "stdout",
     "output_type": "stream",
     "text": [
      "Sentiment\n",
      "sadness    1\n",
      "Name: count, dtype: int64\n"
     ]
    },
    {
     "name": "stderr",
     "output_type": "stream",
     "text": [
      "/tmp/ipykernel_16897/3010663931.py:24: DeprecationWarning: The 'body' parameter is deprecated and will be removed in a future version. Instead use individual parameters.\n",
      "  response = es.search(index=\"notes2\", body=query)\n",
      "/tmp/ipykernel_16897/3010663931.py:24: ElasticsearchWarning: Elasticsearch built-in security features are not enabled. Without authentication, your cluster could be accessible to anyone. See https://www.elastic.co/guide/en/elasticsearch/reference/7.17/security-minimal-setup.html to enable security.\n",
      "  response = es.search(index=\"notes2\", body=query)\n"
     ]
    }
   ],
   "source": [
    "from elasticsearch import Elasticsearch\n",
    "import pandas as pd\n",
    "\n",
    "# Instancier le client Elasticsearch\n",
    "es = Elasticsearch([{'host': 'localhost', 'port':9200, 'scheme':'http'}])\n",
    "\n",
    "# Patient spécifique\n",
    "patient_lastname = \"Christensen\"\n",
    "patient_firstname = \"Anthony\"\n",
    "\n",
    "# Requête Elasticsearch pour récupérer les documents du patient spécifique\n",
    "query = {\n",
    "    \"query\": {\n",
    "        \"bool\": {\n",
    "            \"must\": [\n",
    "                {\"match\": {\"patient_lastname\": patient_lastname}},\n",
    "                {\"match\": {\"patient_firstname\": patient_firstname}}\n",
    "            ]\n",
    "        }\n",
    "    }\n",
    "}\n",
    "\n",
    "# Effectuer la recherche dans Elasticsearch\n",
    "response = es.search(index=\"notes2\", body=query)\n",
    "\n",
    "# Récupérer les documents correspondants\n",
    "documents = response['hits']['hits']\n",
    "\n",
    "# Liste pour stocker les sentiments\n",
    "sentiments = []\n",
    "\n",
    "# Parcourir les documents et extraire les sentiments\n",
    "for doc in documents:\n",
    "    sentiment = doc['_source']['emotion']\n",
    "    sentiments.append(sentiment)\n",
    "\n",
    "# Créer un DataFrame à partir de la liste de sentiments\n",
    "df = pd.DataFrame(sentiments, columns=[\"Sentiment\"])\n",
    "\n",
    "# Effectuer l'agrégation et le comptage des sentiments\n",
    "sentiment_counts = df['Sentiment'].value_counts()\n",
    "\n",
    "# Afficher la répartition des sentiments\n",
    "print(sentiment_counts)"
   ]
  },
  {
   "cell_type": "code",
   "execution_count": 55,
   "metadata": {},
   "outputs": [
    {
     "name": "stderr",
     "output_type": "stream",
     "text": [
      "/tmp/ipykernel_16897/495325489.py:25: DeprecationWarning: The 'body' parameter is deprecated and will be removed in a future version. Instead use individual parameters.\n",
      "  search_results = es.search(index=\"notes2\", body=search_query)\n",
      "/tmp/ipykernel_16897/495325489.py:25: ElasticsearchWarning: Elasticsearch built-in security features are not enabled. Without authentication, your cluster could be accessible to anyone. See https://www.elastic.co/guide/en/elasticsearch/reference/7.17/security-minimal-setup.html to enable security.\n",
      "  search_results = es.search(index=\"notes2\", body=search_query)\n"
     ]
    },
    {
     "data": {
      "image/png": "[encoded data removed]",
      "text/plain": [
       "<Figure size 640x480 with 2 Axes>"
      ]
     },
     "metadata": {},
     "output_type": "display_data"
    }
   ],
   "source": [
    "import pandas as pd\n",
    "import seaborn as sns\n",
    "import matplotlib.pyplot as plt\n",
    "\n",
    "# Liste des sentiments\n",
    "sentiments = ['happy', 'sadness', 'fear', 'love', 'surprise', 'anger']  # Ajoutez tous les sentiments que vous souhaitez inclure\n",
    "\n",
    "# Initialisation de la matrice\n",
    "matrix = []\n",
    "\n",
    "# Recherche du pourcentage de chaque sentiment contenant certains mots\n",
    "for sentiment in sentiments:\n",
    "    percentages = []\n",
    "    for word in['happy', 'sadness', 'fear', 'love', 'surprise', 'anger']:  # Ajoutez tous les mots que vous souhaitez rechercher\n",
    "        search_query = {\n",
    "            \"query\": {\n",
    "                \"bool\": {\n",
    "                    \"must\": [\n",
    "                        {\"match\": {\"emotion\": sentiment}},\n",
    "                        {\"match\": {\"text\": word}}\n",
    "                    ]\n",
    "                }\n",
    "            }\n",
    "        }\n",
    "        search_results = es.search(index=\"notes2\", body=search_query)\n",
    "        total_count = search_results[\"hits\"][\"total\"][\"value\"]\n",
    "        match_count = len(search_results[\"hits\"][\"hits\"])\n",
    "\n",
    "        # Vérification pour éviter la division par zéro\n",
    "        percentage = 0\n",
    "        if total_count != 0:\n",
    "            percentage = match_count / total_count * 100\n",
    "\n",
    "        percentages.append(percentage)\n",
    "    \n",
    "    matrix.append(percentages)\n",
    "\n",
    "# Création de la HeatMap\n",
    "heatmap_df = pd.DataFrame(matrix, columns=['happy', 'sadness', 'fear', 'love', 'surprise', 'anger'], index=sentiments)\n",
    "sns.heatmap(heatmap_df, annot=True, cmap=\"YlGnBu\")\n",
    "plt.xlabel(\"Mots\")\n",
    "plt.ylabel(\"Sentiments\")\n",
    "plt.title(\"Pourcentage de mots dans chaque sentiment\")\n",
    "plt.show()\n"
   ]
  },
  {
   "cell_type": "code",
   "execution_count": 56,
   "metadata": {},
   "outputs": [
    {
     "name": "stderr",
     "output_type": "stream",
     "text": [
      "/tmp/ipykernel_16897/792079254.py:13: DeprecationWarning: The 'body' parameter is deprecated and will be removed in a future version. Instead use individual parameters.\n",
      "  full_text_results = es.search(index=\"notes2\", body=full_text_query)\n",
      "/tmp/ipykernel_16897/792079254.py:13: ElasticsearchWarning: Elasticsearch built-in security features are not enabled. Without authentication, your cluster could be accessible to anyone. See https://www.elastic.co/guide/en/elasticsearch/reference/7.17/security-minimal-setup.html to enable security.\n",
      "  full_text_results = es.search(index=\"notes2\", body=full_text_query)\n",
      "/tmp/ipykernel_16897/792079254.py:27: DeprecationWarning: The 'body' parameter is deprecated and will be removed in a future version. Instead use individual parameters.\n",
      "  fuzzy_results = es.search(index=\"notes2\", body=fuzzy_query)\n",
      "/tmp/ipykernel_16897/792079254.py:27: ElasticsearchWarning: Elasticsearch built-in security features are not enabled. Without authentication, your cluster could be accessible to anyone. See https://www.elastic.co/guide/en/elasticsearch/reference/7.17/security-minimal-setup.html to enable security.\n",
      "  fuzzy_results = es.search(index=\"notes2\", body=fuzzy_query)\n"
     ]
    },
    {
     "name": "stdout",
     "output_type": "stream",
     "text": [
      "Stage: denial, Full Text Count: 3, Fuzzy Count: 75\n",
      "Stage: anger, Full Text Count: 24, Fuzzy Count: 39\n",
      "Stage: bargaining, Full Text Count: 0, Fuzzy Count: 0\n",
      "Stage: depression, Full Text Count: 12, Fuzzy Count: 27\n",
      "Stage: acceptance, Full Text Count: 9, Fuzzy Count: 51\n"
     ]
    }
   ],
   "source": [
    "stages_of_grief = ['denial', 'anger', 'bargaining', 'depression', 'acceptance']\n",
    "\n",
    "# Recherche du nombre de textes correspondants pour chaque étape du deuil\n",
    "for stage in stages_of_grief:\n",
    "    # Recherche pleine\n",
    "    full_text_query = {\n",
    "        \"query\": {\n",
    "            \"match\": {\n",
    "                \"text\": stage\n",
    "            }\n",
    "        }\n",
    "    }\n",
    "    full_text_results = es.search(index=\"notes2\", body=full_text_query)\n",
    "    full_text_count = full_text_results[\"hits\"][\"total\"][\"value\"]\n",
    "    \n",
    "    # Recherche fuzzy\n",
    "    fuzzy_query = {\n",
    "        \"query\": {\n",
    "            \"fuzzy\": {\n",
    "                \"text\": {\n",
    "                    \"value\": stage,\n",
    "                    \"fuzziness\": \"AUTO\"\n",
    "                }\n",
    "            }\n",
    "        }\n",
    "    }\n",
    "    fuzzy_results = es.search(index=\"notes2\", body=fuzzy_query)\n",
    "    fuzzy_count = fuzzy_results[\"hits\"][\"total\"][\"value\"]\n",
    "    \n",
    "    print(f\"Stage: {stage}, Full Text Count: {full_text_count}, Fuzzy Count: {fuzzy_count}\")\n"
   ]
  },
  {
   "cell_type": "code",
   "execution_count": 57,
   "metadata": {},
   "outputs": [
    {
     "name": "stderr",
     "output_type": "stream",
     "text": [
      "/tmp/ipykernel_16897/3279196931.py:25: DeprecationWarning: The 'body' parameter is deprecated and will be removed in a future version. Instead use individual parameters.\n",
      "  search_results = es.search(index=\"notes2\", body=search_query)\n",
      "/tmp/ipykernel_16897/3279196931.py:25: ElasticsearchWarning: Elasticsearch built-in security features are not enabled. Without authentication, your cluster could be accessible to anyone. See https://www.elastic.co/guide/en/elasticsearch/reference/7.17/security-minimal-setup.html to enable security.\n",
      "  search_results = es.search(index=\"notes2\", body=search_query)\n"
     ]
    },
    {
     "data": {
      "image/png": "[encoded data removed]",
      "text/plain": [
       "<Figure size 1000x600 with 1 Axes>"
      ]
     },
     "metadata": {},
     "output_type": "display_data"
    }
   ],
   "source": [
    "import pandas as pd\n",
    "import seaborn as sns\n",
    "import matplotlib.pyplot as plt\n",
    "\n",
    "# Recherche des textes selon les critères spécifiés\n",
    "search_query = {\n",
    "    \"query\": {\n",
    "        \"bool\": {\n",
    "            \"must\": [\n",
    "                {\"match\": {\"text\": \"good day\"}}\n",
    "            ],\n",
    "            \"filter\": [\n",
    "                {\"term\": {\"patient_left\": False}}\n",
    "            ],\n",
    "            \"should\": [\n",
    "                {\"match\": {\"text\": \"to rest\"}}\n",
    "            ],\n",
    "            \"must_not\": [\n",
    "                {\"range\": {\"confidence\": {\"lt\": 0.5}}}\n",
    "            ]\n",
    "        }\n",
    "    }\n",
    "}\n",
    "\n",
    "search_results = es.search(index=\"notes2\", body=search_query)\n",
    "\n",
    "# Extraction des sentiments des textes correspondants\n",
    "sentiments = [hit[\"_source\"][\"emotion\"] for hit in search_results[\"hits\"][\"hits\"]]\n",
    "\n",
    "# Répartition des résultats par sentiment\n",
    "sentiment_counts = pd.Series(sentiments).value_counts()\n",
    "\n",
    "# Visualisation de la répartition des résultats\n",
    "plt.figure(figsize=(10, 6))\n",
    "sns.barplot(x=sentiment_counts.index, y=sentiment_counts.values)\n",
    "plt.xlabel(\"Sentiments\")\n",
    "plt.ylabel(\"Nombre de textes\")\n",
    "plt.title(\"Répartition des textes correspondants aux critères spécifiés par sentiment\")\n",
    "plt.show()"
   ]
  },
  {
   "cell_type": "code",
   "execution_count": null,
   "metadata": {},
   "outputs": [],
   "source": []
  }
 ],
 "metadata": {
  "kernelspec": {
   "display_name": "conda",
   "language": "python",
   "name": "python3"
  },
  "language_info": {
   "codemirror_mode": {
    "name": "ipython",
    "version": 3
   },
   "file_extension": ".py",
   "mimetype": "text/x-python",
   "name": "python",
   "nbconvert_exporter": "python",
   "pygments_lexer": "ipython3",
   "version": "3.8.16"
  },
  "orig_nbformat": 4
 },
 "nbformat": 4,
 "nbformat_minor": 2
}
